{
 "cells": [
  {
   "cell_type": "code",
   "execution_count": 3,
   "id": "de1a1b70",
   "metadata": {},
   "outputs": [
    {
     "name": "stdout",
     "output_type": "stream",
     "text": [
      "0.3.27\n"
     ]
    }
   ],
   "source": [
    "import langchain\n",
    "print(langchain.__version__)"
   ]
  },
  {
   "cell_type": "code",
   "execution_count": 4,
   "id": "a42b443f",
   "metadata": {},
   "outputs": [
    {
     "data": {
      "text/plain": [
       "True"
      ]
     },
     "execution_count": 4,
     "metadata": {},
     "output_type": "execute_result"
    }
   ],
   "source": [
    "from dotenv import load_dotenv\n",
    "load_dotenv()"
   ]
  },
  {
   "cell_type": "markdown",
   "id": "f9da264f",
   "metadata": {},
   "source": [
    "### Testing LLm"
   ]
  },
  {
   "cell_type": "code",
   "execution_count": 5,
   "id": "fd26d52e",
   "metadata": {},
   "outputs": [
    {
     "data": {
      "text/plain": [
       "AIMessage(content='The national anthem of Bangladesh is \"Amar Sonar Bangla,\" written by the famous poet Rabindranath Tagore. The anthem expresses the beauty and spirit of Bangladesh and its people\\'s love for their homeland. Here are the opening lines of the anthem in Bengali:\\n\\nআমার সোনার বাংলা, আমি তোমায় ভালোবাসি।\\n  \\nIf you would like a translation or a summary of the themes in the anthem, feel free to ask!', additional_kwargs={'refusal': None}, response_metadata={'token_usage': {'completion_tokens': 90, 'prompt_tokens': 12, 'total_tokens': 102, 'completion_tokens_details': {'accepted_prediction_tokens': 0, 'audio_tokens': 0, 'reasoning_tokens': 0, 'rejected_prediction_tokens': 0}, 'prompt_tokens_details': {'audio_tokens': 0, 'cached_tokens': 0}}, 'model_name': 'gpt-4o-mini-2024-07-18', 'system_fingerprint': 'fp_8bda4d3a2c', 'id': 'chatcmpl-CCI18FISU6xBWHCUBNU592fcKPoiS', 'service_tier': 'default', 'finish_reason': 'stop', 'logprobs': None}, id='run--c9e3c8bd-6098-480c-9c25-2321f766b7b4-0', usage_metadata={'input_tokens': 12, 'output_tokens': 90, 'total_tokens': 102, 'input_token_details': {'audio': 0, 'cache_read': 0}, 'output_token_details': {'audio': 0, 'reasoning': 0}})"
      ]
     },
     "execution_count": 5,
     "metadata": {},
     "output_type": "execute_result"
    }
   ],
   "source": [
    "from langchain_openai import ChatOpenAI\n",
    "\n",
    "llm=ChatOpenAI(model=\"gpt-4o-mini\")\n",
    "llm_response=llm.invoke(\"Tell bangladesh national anthem\")\n",
    "\n",
    "llm_response"
   ]
  },
  {
   "cell_type": "markdown",
   "id": "2881c42f",
   "metadata": {},
   "source": [
    "### Parsing output \n",
    "<sub>Here we can parse the output. it looks like we can only show the exact reply that we get from the LLM</sub>\n"
   ]
  },
  {
   "cell_type": "code",
   "execution_count": 7,
   "id": "e85500e7",
   "metadata": {},
   "outputs": [
    {
     "data": {
      "text/plain": [
       "'The national anthem of Bangladesh is \"Amar Sonar Bangla,\" written by the famous poet Rabindranath Tagore. The anthem expresses the beauty and spirit of Bangladesh and its people\\'s love for their homeland. Here are the opening lines of the anthem in Bengali:\\n\\nআমার সোনার বাংলা, আমি তোমায় ভালোবাসি।\\n  \\nIf you would like a translation or a summary of the themes in the anthem, feel free to ask!'"
      ]
     },
     "execution_count": 7,
     "metadata": {},
     "output_type": "execute_result"
    }
   ],
   "source": [
    "from langchain_core.output_parsers import StrOutputParser\n",
    "\n",
    "outputParser = StrOutputParser()\n",
    "outputParser.invoke(llm_response)"
   ]
  },
  {
   "cell_type": "markdown",
   "id": "0b73967f",
   "metadata": {},
   "source": [
    "### Simple Chain\n",
    "<sub>Here we are making a simple chain so that instead of calling one by one we can directly invoke this chain and get the answer</sub>"
   ]
  },
  {
   "cell_type": "code",
   "execution_count": 8,
   "id": "5068cf01",
   "metadata": {},
   "outputs": [
    {
     "data": {
      "text/plain": [
       "'Why did the scarecrow win an award? \\n\\nBecause he was outstanding in his field!'"
      ]
     },
     "execution_count": 8,
     "metadata": {},
     "output_type": "execute_result"
    }
   ],
   "source": [
    "chain = llm | outputParser\n",
    "chain.invoke(\"Tell me a joke\")"
   ]
  },
  {
   "cell_type": "markdown",
   "id": "f3f0a0c1",
   "metadata": {},
   "source": [
    "### Structured Output\n",
    "\n",
    "<sub>Here we can get structure output from here</sub>"
   ]
  },
  {
   "cell_type": "code",
   "execution_count": 9,
   "id": "6e877f42",
   "metadata": {},
   "outputs": [
    {
     "data": {
      "text/plain": [
       "ProductReview(product_name='Yamaha R15 V4', rating=4.3, pros=['Sharp handling', 'Sporty and eye-catching design', 'Smooth acceleration', 'Good fuel efficiency (around 40 km/l in city traffic)'], cons=['Uncomfortable seating position for longer rides', 'Cramped pillion seat', 'Higher price compared to competitors'], summary='The Yamaha R15 V4 impresses with its performance and design but may not be ideal for long rides.')"
      ]
     },
     "execution_count": 9,
     "metadata": {},
     "output_type": "execute_result"
    }
   ],
   "source": [
    "from typing import List\n",
    "from pydantic import BaseModel, Field\n",
    "\n",
    "class ProductReview(BaseModel):\n",
    "    product_name: str = Field(description=\"Name and model of the product (car, bike, phone, etc.)\")\n",
    "    rating: float = Field(description=\"Overall rating out of 5\")\n",
    "    pros: List[str] = Field(description=\"List of positive aspects of the product\")\n",
    "    cons: List[str] = Field(description=\"List of negative aspects of the product\")\n",
    "    summary: str = Field(description=\"Brief summary of the review\")\n",
    "\n",
    "review_text = \"\"\"\n",
    "Just took the new Yamaha R15 V4 for a spin and it blew me away! The handling feels razor sharp,\n",
    "and the sporty design definitely turns heads on the road. Acceleration is smooth, and the bike\n",
    "holds its own really well at higher speeds. Fuel efficiency is also surprisingly good for a\n",
    "sports bike — I managed to get around 40 km/l in city traffic.\n",
    "\n",
    "On the flip side, the seating position can get uncomfortable on longer rides — it’s built for\n",
    "sport, not comfort. Also, the pillion seat is pretty cramped, so not ideal for two-up riding.\n",
    "The price is a bit on the higher side compared to competitors too.\n",
    "\n",
    "Overall, I’d give it a 4.3 out of 5. Fantastic choice if you want a stylish, performance-focused\n",
    "bike, but not the best for touring or daily long commutes.\n",
    "\"\"\"\n",
    "\n",
    "\n",
    "structured_llm = llm.with_structured_output(ProductReview)\n",
    "structure_output = structured_llm.invoke(review_text)\n",
    "structure_output\n"
   ]
  },
  {
   "cell_type": "code",
   "execution_count": 10,
   "id": "2a4eaf24",
   "metadata": {},
   "outputs": [
    {
     "data": {
      "text/plain": [
       "4.3"
      ]
     },
     "execution_count": 10,
     "metadata": {},
     "output_type": "execute_result"
    }
   ],
   "source": [
    "structure_output.rating"
   ]
  },
  {
   "cell_type": "markdown",
   "id": "556a6f49",
   "metadata": {},
   "source": [
    "### Prompt Template\n",
    "<sub>typically msg could be dynamic. so we need some flexibilty to set any msg. so we can use the prompt template</sub>"
   ]
  },
  {
   "cell_type": "code",
   "execution_count": 15,
   "id": "28427308",
   "metadata": {},
   "outputs": [
    {
     "data": {
      "text/plain": [
       "ChatPromptValue(messages=[HumanMessage(content='Tell me the best player in cricket', additional_kwargs={}, response_metadata={})])"
      ]
     },
     "execution_count": 15,
     "metadata": {},
     "output_type": "execute_result"
    }
   ],
   "source": [
    "from langchain_core.prompts import ChatPromptTemplate\n",
    "prompt = ChatPromptTemplate.from_template(\"Tell me the best player in {sport}\")\n",
    "prompt.invoke({\"sport\":\"cricket\"})"
   ]
  },
  {
   "cell_type": "code",
   "execution_count": 16,
   "id": "cda8c15a",
   "metadata": {},
   "outputs": [
    {
     "data": {
      "text/plain": [
       "ChatPromptValue(messages=[HumanMessage(content='Tell me the best player in football', additional_kwargs={}, response_metadata={})])"
      ]
     },
     "execution_count": 16,
     "metadata": {},
     "output_type": "execute_result"
    }
   ],
   "source": [
    "prompt.invoke(\"football\")"
   ]
  },
  {
   "cell_type": "code",
   "execution_count": 17,
   "id": "fb26ee4a",
   "metadata": {},
   "outputs": [
    {
     "data": {
      "text/plain": [
       "'Determining the \"best\" player in cricket can be subjective and depends on various factors such as format (Test, One Day International, T20), personal preference, and specific metrics of performance. \\n\\nHowever, some of the most widely recognized cricket players in history include:\\n\\n1. **Sir Donald Bradman** - Often regarded as the greatest batsman of all time, with an unmatched Test batting average of 99.94.\\n2. **Sachin Tendulkar** - Known as the \"Little Master,\" he holds the record for the most runs in both Tests and ODIs.\\n3. **Sir Vivian Richards** - A dominant batsman known for his aggressive style and impactful innings.\\n4. **Shane Warne** - One of the greatest spin bowlers in the history of cricket, he revolutionized the art of leg-spin.\\n5. **Brian Lara** - Known for his high-scoring feats, including the highest individual score in Test cricket (400*).\\n6. **Jacques Kallis** - One of the greatest all-rounders, with over 10,000 runs and 300 wickets in both Tests and ODIs.\\n\\nIn contemporary cricket, players like Virat Kohli, Babar Azam, and Kane Williamson are often mentioned among the best due to their exceptional performances. It ultimately comes down to personal opinion and criteria for greatness.'"
      ]
     },
     "execution_count": 17,
     "metadata": {},
     "output_type": "execute_result"
    }
   ],
   "source": [
    "chain = prompt | llm | outputParser\n",
    "chain.invoke({\"sport\":\"cricket\"})"
   ]
  },
  {
   "cell_type": "code",
   "execution_count": 18,
   "id": "6f717c60",
   "metadata": {},
   "outputs": [
    {
     "data": {
      "text/plain": [
       "'Determining the \"best\" player in football (soccer) can be subjective and varies based on personal preferences, current form, and individual achievements. Historically, players like Pelé, Diego Maradona, Lionel Messi, and Cristiano Ronaldo have been considered some of the greatest. As of my last update in 2023, Lionel Messi and Cristiano Ronaldo are often cited as the best players of their generation, with Messi winning multiple Ballon d\\'Or awards and having a remarkable career. However, emerging talents like Kylian Mbappé and Erling Haaland are also making significant impacts in the sport. The answer can change based on recent performances and achievements.'"
      ]
     },
     "execution_count": 18,
     "metadata": {},
     "output_type": "execute_result"
    }
   ],
   "source": [
    "chain = prompt | llm | outputParser\n",
    "chain.invoke(\"football\")"
   ]
  },
  {
   "cell_type": "markdown",
   "id": "3c8c1833",
   "metadata": {},
   "source": [
    "### LLM Messages\n",
    "<sub>llm messages where we using the human msg and system msg </sub>"
   ]
  },
  {
   "cell_type": "code",
   "execution_count": 19,
   "id": "9b2dad04",
   "metadata": {},
   "outputs": [
    {
     "data": {
      "text/plain": [
       "AIMessage(content=\"In cricket, each team has 11 players on the field during a match. Therefore, if you're looking at a standard game of cricket, a total of 22 players participate: 11 from each team.\", additional_kwargs={'refusal': None}, response_metadata={'token_usage': {'completion_tokens': 42, 'prompt_tokens': 35, 'total_tokens': 77, 'completion_tokens_details': {'accepted_prediction_tokens': 0, 'audio_tokens': 0, 'reasoning_tokens': 0, 'rejected_prediction_tokens': 0}, 'prompt_tokens_details': {'audio_tokens': 0, 'cached_tokens': 0}}, 'model_name': 'gpt-4o-mini-2024-07-18', 'system_fingerprint': 'fp_8bda4d3a2c', 'id': 'chatcmpl-CCIcCYHm1sre5Nkt74sMxKogEVKjh', 'service_tier': 'default', 'finish_reason': 'stop', 'logprobs': None}, id='run--a293cadb-c689-4339-909d-9156fce7da81-0', usage_metadata={'input_tokens': 35, 'output_tokens': 42, 'total_tokens': 77, 'input_token_details': {'audio': 0, 'cache_read': 0}, 'output_token_details': {'audio': 0, 'reasoning': 0}})"
      ]
     },
     "execution_count": 19,
     "metadata": {},
     "output_type": "execute_result"
    }
   ],
   "source": [
    "from langchain_core.output_parsers import StrOutputParser\n",
    "from langchain_core.messages import HumanMessage, SystemMessage\n",
    "\n",
    "system_message = SystemMessage(content=\"You are a helpfull sports assitant who cotains the knowledge about all the sports\")\n",
    "human_message = HumanMessage(content=\"How many player play in cricket?\")\n",
    "llm.invoke([system_message,human_message])"
   ]
  },
  {
   "cell_type": "code",
   "execution_count": 20,
   "id": "65c31428",
   "metadata": {},
   "outputs": [
    {
     "data": {
      "text/plain": [
       "ChatPromptValue(messages=[SystemMessage(content='You are a helpfull sports assitant who cotains the knowledge about all the sports.', additional_kwargs={}, response_metadata={}), HumanMessage(content='How many player play in hockey?', additional_kwargs={}, response_metadata={})])"
      ]
     },
     "execution_count": 20,
     "metadata": {},
     "output_type": "execute_result"
    }
   ],
   "source": [
    "from langchain_core.prompts import ChatPromptTemplate\n",
    "\n",
    "template = ChatPromptTemplate([\n",
    "    (\"system\", \"You are a helpfull sports assitant who cotains the knowledge about all the sports.\"),\n",
    "    (\"human\", \"How many player play in {sport}?\")\n",
    "])\n",
    "\n",
    "prompt_value = template.invoke({\n",
    "    \"sport\":\"hockey\"\n",
    "})\n",
    "\n",
    "prompt_value"
   ]
  },
  {
   "cell_type": "code",
   "execution_count": 21,
   "id": "642e79c2",
   "metadata": {},
   "outputs": [
    {
     "data": {
      "text/plain": [
       "AIMessage(content='In ice hockey, each team has six players on the ice at a time: three forwards, two defensemen, and one goaltender. In total, there are typically 12 to 20 players on a team roster, which includes players who are substitutes or sit on the bench during a game. \\n\\nIn field hockey, each team has 11 players on the field, including one goalkeeper. Similar to ice hockey, teams may have additional players on the roster for substitutions.\\n\\nIf you have a specific type of hockey in mind, please let me know!', additional_kwargs={'refusal': None}, response_metadata={'token_usage': {'completion_tokens': 112, 'prompt_tokens': 36, 'total_tokens': 148, 'completion_tokens_details': {'accepted_prediction_tokens': 0, 'audio_tokens': 0, 'reasoning_tokens': 0, 'rejected_prediction_tokens': 0}, 'prompt_tokens_details': {'audio_tokens': 0, 'cached_tokens': 0}}, 'model_name': 'gpt-4o-mini-2024-07-18', 'system_fingerprint': 'fp_8bda4d3a2c', 'id': 'chatcmpl-CCIfYILFOkZR0EONlfuDVaA5TM7aq', 'service_tier': 'default', 'finish_reason': 'stop', 'logprobs': None}, id='run--c9d7b0e0-8506-47f3-8eee-ff5d680e0e98-0', usage_metadata={'input_tokens': 36, 'output_tokens': 112, 'total_tokens': 148, 'input_token_details': {'audio': 0, 'cache_read': 0}, 'output_token_details': {'audio': 0, 'reasoning': 0}})"
      ]
     },
     "execution_count": 21,
     "metadata": {},
     "output_type": "execute_result"
    }
   ],
   "source": [
    "llm.invoke(prompt_value)"
   ]
  }
 ],
 "metadata": {
  "kernelspec": {
   "display_name": "venv (3.13.7)",
   "language": "python",
   "name": "python3"
  },
  "language_info": {
   "codemirror_mode": {
    "name": "ipython",
    "version": 3
   },
   "file_extension": ".py",
   "mimetype": "text/x-python",
   "name": "python",
   "nbconvert_exporter": "python",
   "pygments_lexer": "ipython3",
   "version": "3.13.7"
  }
 },
 "nbformat": 4,
 "nbformat_minor": 5
}
