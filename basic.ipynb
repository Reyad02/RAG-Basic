{
 "cells": [
  {
   "cell_type": "code",
   "execution_count": 3,
   "id": "de1a1b70",
   "metadata": {},
   "outputs": [
    {
     "name": "stdout",
     "output_type": "stream",
     "text": [
      "0.3.27\n"
     ]
    }
   ],
   "source": [
    "import langchain\n",
    "print(langchain.__version__)"
   ]
  },
  {
   "cell_type": "code",
   "execution_count": 4,
   "id": "a42b443f",
   "metadata": {},
   "outputs": [
    {
     "data": {
      "text/plain": [
       "True"
      ]
     },
     "execution_count": 4,
     "metadata": {},
     "output_type": "execute_result"
    }
   ],
   "source": [
    "from dotenv import load_dotenv\n",
    "load_dotenv()"
   ]
  },
  {
   "cell_type": "markdown",
   "id": "f9da264f",
   "metadata": {},
   "source": [
    "### Testing LLm"
   ]
  },
  {
   "cell_type": "code",
   "execution_count": 5,
   "id": "fd26d52e",
   "metadata": {},
   "outputs": [
    {
     "data": {
      "text/plain": [
       "AIMessage(content='The national anthem of Bangladesh is \"Amar Sonar Bangla,\" written by the famous poet Rabindranath Tagore. The anthem expresses the beauty and spirit of Bangladesh and its people\\'s love for their homeland. Here are the opening lines of the anthem in Bengali:\\n\\nআমার সোনার বাংলা, আমি তোমায় ভালোবাসি।\\n  \\nIf you would like a translation or a summary of the themes in the anthem, feel free to ask!', additional_kwargs={'refusal': None}, response_metadata={'token_usage': {'completion_tokens': 90, 'prompt_tokens': 12, 'total_tokens': 102, 'completion_tokens_details': {'accepted_prediction_tokens': 0, 'audio_tokens': 0, 'reasoning_tokens': 0, 'rejected_prediction_tokens': 0}, 'prompt_tokens_details': {'audio_tokens': 0, 'cached_tokens': 0}}, 'model_name': 'gpt-4o-mini-2024-07-18', 'system_fingerprint': 'fp_8bda4d3a2c', 'id': 'chatcmpl-CCI18FISU6xBWHCUBNU592fcKPoiS', 'service_tier': 'default', 'finish_reason': 'stop', 'logprobs': None}, id='run--c9e3c8bd-6098-480c-9c25-2321f766b7b4-0', usage_metadata={'input_tokens': 12, 'output_tokens': 90, 'total_tokens': 102, 'input_token_details': {'audio': 0, 'cache_read': 0}, 'output_token_details': {'audio': 0, 'reasoning': 0}})"
      ]
     },
     "execution_count": 5,
     "metadata": {},
     "output_type": "execute_result"
    }
   ],
   "source": [
    "from langchain_openai import ChatOpenAI\n",
    "\n",
    "llm=ChatOpenAI(model=\"gpt-4o-mini\")\n",
    "llm_response=llm.invoke(\"Tell bangladesh national anthem\")\n",
    "\n",
    "llm_response"
   ]
  },
  {
   "cell_type": "markdown",
   "id": "2881c42f",
   "metadata": {},
   "source": [
    "### Parsing output \n",
    "<sub>Here we can parse the output. it looks like we can only show the exact reply that we get from the LLM</sub>\n"
   ]
  },
  {
   "cell_type": "code",
   "execution_count": 7,
   "id": "e85500e7",
   "metadata": {},
   "outputs": [
    {
     "data": {
      "text/plain": [
       "'The national anthem of Bangladesh is \"Amar Sonar Bangla,\" written by the famous poet Rabindranath Tagore. The anthem expresses the beauty and spirit of Bangladesh and its people\\'s love for their homeland. Here are the opening lines of the anthem in Bengali:\\n\\nআমার সোনার বাংলা, আমি তোমায় ভালোবাসি।\\n  \\nIf you would like a translation or a summary of the themes in the anthem, feel free to ask!'"
      ]
     },
     "execution_count": 7,
     "metadata": {},
     "output_type": "execute_result"
    }
   ],
   "source": [
    "from langchain_core.output_parsers import StrOutputParser\n",
    "\n",
    "outputParser = StrOutputParser()\n",
    "outputParser.invoke(llm_response)"
   ]
  },
  {
   "cell_type": "markdown",
   "id": "0b73967f",
   "metadata": {},
   "source": [
    "### Simple Chain\n",
    "<sub>Here we are making a simple chain so that instead of calling one by one we can directly invoke this chain and get the answer</sub>"
   ]
  },
  {
   "cell_type": "code",
   "execution_count": 8,
   "id": "5068cf01",
   "metadata": {},
   "outputs": [
    {
     "data": {
      "text/plain": [
       "'Why did the scarecrow win an award? \\n\\nBecause he was outstanding in his field!'"
      ]
     },
     "execution_count": 8,
     "metadata": {},
     "output_type": "execute_result"
    }
   ],
   "source": [
    "chain = llm | outputParser\n",
    "chain.invoke(\"Tell me a joke\")"
   ]
  },
  {
   "cell_type": "markdown",
   "id": "f3f0a0c1",
   "metadata": {},
   "source": [
    "### Structured Output\n",
    "\n",
    "<sub>Here we can get structure output from here</sub>"
   ]
  },
  {
   "cell_type": "code",
   "execution_count": 9,
   "id": "6e877f42",
   "metadata": {},
   "outputs": [
    {
     "data": {
      "text/plain": [
       "ProductReview(product_name='Yamaha R15 V4', rating=4.3, pros=['Sharp handling', 'Sporty and eye-catching design', 'Smooth acceleration', 'Good fuel efficiency (around 40 km/l in city traffic)'], cons=['Uncomfortable seating position for longer rides', 'Cramped pillion seat', 'Higher price compared to competitors'], summary='The Yamaha R15 V4 impresses with its performance and design but may not be ideal for long rides.')"
      ]
     },
     "execution_count": 9,
     "metadata": {},
     "output_type": "execute_result"
    }
   ],
   "source": [
    "from typing import List\n",
    "from pydantic import BaseModel, Field\n",
    "\n",
    "class ProductReview(BaseModel):\n",
    "    product_name: str = Field(description=\"Name and model of the product (car, bike, phone, etc.)\")\n",
    "    rating: float = Field(description=\"Overall rating out of 5\")\n",
    "    pros: List[str] = Field(description=\"List of positive aspects of the product\")\n",
    "    cons: List[str] = Field(description=\"List of negative aspects of the product\")\n",
    "    summary: str = Field(description=\"Brief summary of the review\")\n",
    "\n",
    "review_text = \"\"\"\n",
    "Just took the new Yamaha R15 V4 for a spin and it blew me away! The handling feels razor sharp,\n",
    "and the sporty design definitely turns heads on the road. Acceleration is smooth, and the bike\n",
    "holds its own really well at higher speeds. Fuel efficiency is also surprisingly good for a\n",
    "sports bike — I managed to get around 40 km/l in city traffic.\n",
    "\n",
    "On the flip side, the seating position can get uncomfortable on longer rides — it’s built for\n",
    "sport, not comfort. Also, the pillion seat is pretty cramped, so not ideal for two-up riding.\n",
    "The price is a bit on the higher side compared to competitors too.\n",
    "\n",
    "Overall, I’d give it a 4.3 out of 5. Fantastic choice if you want a stylish, performance-focused\n",
    "bike, but not the best for touring or daily long commutes.\n",
    "\"\"\"\n",
    "\n",
    "\n",
    "structured_llm = llm.with_structured_output(ProductReview)\n",
    "structure_output = structured_llm.invoke(review_text)\n",
    "structure_output\n"
   ]
  },
  {
   "cell_type": "code",
   "execution_count": 10,
   "id": "2a4eaf24",
   "metadata": {},
   "outputs": [
    {
     "data": {
      "text/plain": [
       "4.3"
      ]
     },
     "execution_count": 10,
     "metadata": {},
     "output_type": "execute_result"
    }
   ],
   "source": [
    "structure_output.rating"
   ]
  },
  {
   "cell_type": "markdown",
   "id": "556a6f49",
   "metadata": {},
   "source": [
    "### Prompt Template\n",
    "<sub>typically msg could be dynamic. so we need some flexibilty to set any msg. so we can use the prompt template</sub>"
   ]
  }
 ],
 "metadata": {
  "kernelspec": {
   "display_name": "venv (3.13.7)",
   "language": "python",
   "name": "python3"
  },
  "language_info": {
   "codemirror_mode": {
    "name": "ipython",
    "version": 3
   },
   "file_extension": ".py",
   "mimetype": "text/x-python",
   "name": "python",
   "nbconvert_exporter": "python",
   "pygments_lexer": "ipython3",
   "version": "3.13.7"
  }
 },
 "nbformat": 4,
 "nbformat_minor": 5
}
