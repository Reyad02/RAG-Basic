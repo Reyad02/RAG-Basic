{
 "cells": [
  {
   "cell_type": "markdown",
   "id": "a10eed10",
   "metadata": {},
   "source": [
    "### Loading documents\n",
    "\n",
    "<sub>Load all the documents </sub>"
   ]
  },
  {
   "cell_type": "code",
   "execution_count": 7,
   "id": "0fa97476",
   "metadata": {},
   "outputs": [
    {
     "name": "stdout",
     "output_type": "stream",
     "text": [
      "DESA-Intdiv-BGD.pdf\n",
      "DESA-Intdiv-BGD_1.pdf\n",
      "DESA-Intdiv-BGD_text.docx\n",
      "Number of the documnets 16 in docs folder.\n"
     ]
    }
   ],
   "source": [
    "from langchain_community.document_loaders import PyPDFLoader, Docx2txtLoader\n",
    "from typing import List\n",
    "from langchain_core.documents import Document\n",
    "import os\n",
    "\n",
    "def load_documents(folder_path:str) -> List[Document]:\n",
    "    documents = []\n",
    "    for filename in os.listdir(folder_path):\n",
    "        print(filename)\n",
    "        file_path = os.path.join(folder_path,filename)\n",
    "        if filename.endswith(\".pdf\"):\n",
    "            loader = PyPDFLoader(file_path)\n",
    "        elif filename.endswith(\".docx\"):\n",
    "            loader = Docx2txtLoader(file_path)\n",
    "        else: \n",
    "            print(f\"Unsupported file type: {filename}\")\n",
    "            continue\n",
    "        documents.extend(loader.load())\n",
    "    return documents\n",
    "\n",
    "folder_path = \"./docs\"\n",
    "documents = load_documents(folder_path)\n",
    "print(f\"Number of the documnets {len(documents)} in docs folder.\")"
   ]
  },
  {
   "cell_type": "markdown",
   "id": "799a9482",
   "metadata": {},
   "source": [
    "### Recursive Text splitter\n",
    "<sub>Recursive is like split the text in based on \"/n/n\" which means new paragraph or \"/n\" which means new line or \" \" which means new space.</sub>"
   ]
  },
  {
   "cell_type": "code",
   "execution_count": 8,
   "id": "7111a137",
   "metadata": {},
   "outputs": [
    {
     "name": "stdout",
     "output_type": "stream",
     "text": [
      "Split the documents into 80 chunks.\n"
     ]
    }
   ],
   "source": [
    "from langchain_text_splitters import RecursiveCharacterTextSplitter\n",
    "text_splitter = RecursiveCharacterTextSplitter(\n",
    "    chunk_size=1000,\n",
    "    chunk_overlap=200,\n",
    ")\n",
    "\n",
    "splits = text_splitter.split_documents(documents)\n",
    "print(f\"Split the documents into {len(splits)} chunks.\")\n"
   ]
  },
  {
   "cell_type": "code",
   "execution_count": 13,
   "id": "52df5124",
   "metadata": {},
   "outputs": [
    {
     "name": "stdout",
     "output_type": "stream",
     "text": [
      "[Document(metadata={'producer': 'PDFium', 'creator': 'PDFium', 'creationdate': 'D:20250905110408', 'source': './docs\\\\DESA-Intdiv-BGD.pdf', 'total_pages': 11, 'page': 0, 'page_label': '1'}, page_content='1 \\n1. INTRODUCTION  \\n1.1 Background \\n \\nClimate change is arguably the most pressing crisis facing the globe today. Since the \\nemergence of industrial revolution about a century and a half ago, human activities such as \\nrapid industrialization, widespread deforestation and large -scale agriculture have resulted in \\nexorbitant amounts of greenhouse gases being expelled to the Earth’s atmosphere. This has led \\nto an unnatural and dramatic rise in the Earth’s temperature within a short period of time.1 This \\nrapid warming has triggered significant changes in the global climate system, with rising sea \\nlevels, shifting weather patterns and increasing frequency and magnitude of extreme weather \\nevents (e.g., droughts, cyclones and floods) already being observed all over the world.2 These \\nalarming changes bear far -reaching impacts on the global economy, infrastructure, human \\nhealth, ecosystems, biodiversity and the broader society in general. \\n \\nLeast Developed Countries (LDCs) are particularly vulnerable to these impacts, owing to their \\nlimited technical, financial and institutional capacity to tackle the issue. In 1992, the United \\nNations Framework Convention on Climate Change (UNFCCC) was founded as a flagship \\ninternational treaty for addressing global climate change. Article 4 of the Convention states \\nthat “the Parties shall take full account of the specific needs and special situations of the least \\ndeveloped countries in their actions with regard to funding and transfer of technology”. In order \\nto implement this, the LDC work programme was established in 2001, and updated at the 24th \\nsession of the Conference of the Parties (COP) in December 2018 . The work program calls \\nupon the following set of actions3: \\n \\n1. Strengthening existing national climate change secretariats and/or focal points to enable \\nthe effective implementation of the Convention and the Kyoto Protocol in the LDC \\nParties;  \\n2. Providing ongoing negotiations training to build the capacity of negotiator s from the \\nLDCs to participate effectively in the climate change process;  \\n3. Supporting the preparation of national adaptation programs of action (NAPAs). NAPAs \\nwere structured around an eight -step process resulting in a list of discrete projects. \\nHaving completed a NAPA would make the country eligible for the Least Developed \\nCountries Fund (LDCF);  \\n4. Promoting public awareness programs to ensure the dissemination of information on \\nclimate change issues;  \\n5. Developing and transferring technology, particularly adaptation technology; and  \\n \\n1 Houghton, J. T. (2001). Climate Change 2001: The Scientific Basis. \\n2 Intergovernmental Panel on Climate Change (IPCC). (2014). AR5 synthesis report: Climate change 2014.  \\n3 United Nations Framework Convention of Climate Change (2020). LDC Work Programme of 2001 as updated \\nin 2018.  URL: https://unfccc.int/topics/adaptation-and-resilience/workstreams/national-adaptation-plans-\\nnaps/ldc-portal/ldc-work-programme-of-2001-as-updated-in-2018. Retrieved 14 July 2021'), Document(metadata={'producer': 'PDFium', 'creator': 'PDFium', 'creationdate': 'D:20250905110408', 'source': './docs\\\\DESA-Intdiv-BGD.pdf', 'total_pages': 11, 'page': 1, 'page_label': '2'}, page_content='2 \\n6. Strengthening the capacity of meteorological and hydrological services to collect, \\nanalyze, interpret and disseminate weather and climate information to support the \\nimplementation of  \\n \\nIn accordance with the above, several dedicated financing mechanisms have been set up over \\nthe years for addressing the issue of global climate change. One of the earliest of such entities \\nis the Global Environment Facility (GEF) . GEF was established in 1992 as  an independent \\ninternational cooperation  entity, mandated to help developing countries and countries with \\neconomies in transition meet the objectives of international climate change conventions, while \\nenabling economic growth. GEF administers several funds targeted at supporting climate \\naction i n LDCs. This includes , but is not limited to,  the Least Developed Countries Fund \\n(LDCF) and the Special Climate Change Fund (SCCF). Established in 2001, LDCF remain the \\nonly dedicated funding mechanism out there aimed at exclusively supporting climate \\nadaptation action in LDCs. As of 2020, the Fund has helped 51 countries with the preparation \\nand implementation of their National Adaptation Programs of Action (NAPAs) and is presently \\nsupporting the formulation of National Adaptation Plans (NAPs) in these countries. The LDCF \\nalso supports the LDC work program under the UNFCCC.  \\n \\nThe Adaptation Fund is a financial mechanism under the UNFCCC and Kyoto Protocol, \\nfinanced partly by proceeds from Clean Development Mechanism (CDM) project activities and \\nvoluntary pledges of donor governments. Operational since 2010, the fund aims to support \\nconcrete adaptation activities in developing countries. Since its inception, the fund has \\ncommitted USD 783 million towards climate adaptation and resilience activities, including  \\nsupporting 115 concrete adaptation projects, with over 27 million total dir ect and indirect \\nbeneficiaries. In 2010, the Green Climate Fund (GCF), was established and it  represents one \\nof the most prominent climate financing channels in operation today.  I t has been designed to \\nsupport both mitigation and adaptation activities for low-carbon climate resilient development \\nin developing countries. It is mandated to invest 50% of its resources towards mitigation and \\n50% towards adaptation activities. At least half of the resources for adaptation, are expected to \\nbe invested in the most climate vulnerable countries which include LDCs, Small Island \\nDeveloping States (SIDS) and African States. Till date, the F und has committed around USD \\n8.9 billion towards 177 projects across the globe.4 \\n \\nIn addition to the above, multilateral development banks such as the Asian Development Bank, \\nWorld Bank and the African Development Bank continue to make substantial financial \\ncontributions towards global climate action through their various schemes and programmes. \\nBilateral development partners have also been playing a crucial role,  and billions in Overseas \\nDevelopment Assistance (ODA) have been channelled over the years towards  reducing \\nvulnerability and building resili ence to climate change in LDCs . Bilateral donors also \\ncontribute to the many multilateral public climate funds and have set up a number of dedicated \\nprograms and fund s for climate change activities. Furthermore, to help curb overreliance on \\nexternal support, several LDCs have integrated climate related investments in their national \\n \\n4 Green Climate Fund (2021). URL: https://www.greenclimate.fund/. Retrieved on 14  July 2021'), Document(metadata={'producer': 'PDFium', 'creator': 'PDFium', 'creationdate': 'D:20250905110408', 'source': './docs\\\\DESA-Intdiv-BGD.pdf', 'total_pages': 11, 'page': 2, 'page_label': '3'}, page_content='3 \\nbudgets, and there are cases of national climate funds being established to mobilize domestic \\nresources towards the issue. In recent years, the role of private sector in tackling climate change \\nhas been growing, and several facilities and mechanisms have been established to catalyse and \\nchannel private sector investment towards climate action.   \\n \\nWhile there are numerous sources and vehicles in place for supporting climate action in LDCs, \\nit is essential to ensure consistent and effective mobilization of these resources for adequately \\nsupporting the growing financing needs in these countries. The Adaptation Gap Report 2020 \\nestimate the annual global adaptation cost to be between US D140 – USD300 billion in 2030. \\nAccording to the LDC 2050 Vision Report 2019, LDCs will require around US D40 billion \\nbetween 2020 and 2030 to be able to implement adaptation priorities outlined in their \\nNationally Determined Contributions (NDCs). \\n \\nThe recent COVID19 pandemic has further exacerbated many of the challenges faced by LDCs \\nin this regard. LDCs susceptible to natural disasters and climate induced shocks and stresses, \\noften tend to rely heavily on overseas development assistance (ODA), remittances and tourism. \\nThese sources of income have been adversely affected through global demand reduction, travel \\nrestriction and job destruction in hosting countries. The debt stress induced by the pandemic is \\nlikely to result in reduction of efforts and resource s geared towards climate action, further \\nlimiting their potential for accomplishing the 2030 Sustainable Development Agenda.  \\n \\nIt is against this background, the UN Department of Economic and social Affairs (DESA) is \\nimplementing the project titled “Strengthening the capacity of developing countries to \\ndevelop evidence -based, coherent and well financed strategies to implement the 2030 \\nAgenda”. The aim of the project is to contribute to building the capacity of developing \\ncountries to mobilize funding for su stainable development. Under this project, Economic \\nAnalysis and Policy Division (EAPD) aims to conduct capacity building activities of \\ninternational support measures (ISMs) for climate finance for Bangladesh, helping the \\nGovernment officials and practitioners to develop climate change projects and secure climate \\nfinancing. \\n  \\n1.2 Objective and Scope \\n  \\nThis objective of the report is to provide strategic guidelines and step -by-step procedures for \\naccessing various means of climate financing support, including ISMs, to support climate \\nresilience in Bangladesh, particularly in the agriculture sector. The report is primarily targeted \\nat Government officials, policymakers as well as practitioners engaged in the country’s climate \\nchange and agricultural development arena. It should be noted that the report is not designed \\nto be an exhaustive list of climate financing sources and mechanisms available in Bangladesh, \\nbut rather it outlines some of the prospective vehicles which can support climate resilience and \\npost-COVID19 economic recovery for the coun try as it moves forward with its aim to  fulfil \\nthe 2030 Agenda for Sustainable Development, and to become a developed country by 2041.'), Document(metadata={'producer': 'PDFium', 'creator': 'PDFium', 'creationdate': 'D:20250905110408', 'source': './docs\\\\DESA-Intdiv-BGD.pdf', 'total_pages': 11, 'page': 3, 'page_label': '4'}, page_content='4 \\n1.3 Methodology and Structure \\n  \\nThe preparation of this report employed a largely  qualitative methodological approach. A \\ncombination of primary and secondary data collection was applied which entailed reviewing \\navailable literature, and, soliciting inputs from topic experts working within the climate change, \\nenvironment and agricultural sector in Bangladesh. \\n \\nThe literature review consisted of analysing published reports, academic papers, case studies \\nand policy briefs paper on the topic of climate finance and agricultural resilience. Strategy and \\nguidance documents, as well as website data from va rious national, bilateral and multilateral \\nclimate financing entities were appraised. In addition, semi -structured interviews were \\nconducted (n~6) with national experts including policymakers, practitioners and researchers, \\nto gather their perspectives on the present state and future of climate finance in Bangladesh, \\nparticularly in the context of agricultural resilience. Data collected from the literature review \\nand interviews were subsequently analysed to produce this report.   \\n \\nThe report is structured as follows: Section 2 provides a summary of climate change risks and \\nimpacts in Bangladesh, specifically highlighting the vulnerability of the critical agriculture \\nsector. In Section 3, policy and institutional frameworks for climate action in Bangladesh is \\nillustrated. Section 4 covers the broad scenario of climate financing in the county . Section 5 \\nidentifies five (5) important sources of climate finance in Bangladesh, and delineates on their \\nproject processes and application procedures. Finally, section 6 recommends a set of strategic \\nconsiderations for ensuring availability and access, as well as effective utilization of adequate \\nfinancial resources for facilitating climate resilience in the country. \\n \\nBox 1. Definitions of key concepts \\n \\nVulnerability to climate change is “the propensity or predisposition to be adversely affected”. It is \\na complex and dynamic phenomenon and that several characteristics of a given social -ecological \\nsystem contribute to make people and territories more or less vulnerable. \\n \\nAdaptation refers to adjustments in ecological, social, or economic systems in response to actual \\nor expected climatic stimuli and their effects or impacts. It refers to changes in processes, practices, \\nand structures to moderate potential damages or to benefit from  opportunities associated with \\nclimate change.  \\n \\nMitigation involves actions that reduce the rate of climate change through limiting or preventing \\ngreenhouse gas emissions and by enhancing activities that remove these gases from the atmosphere. \\n \\nResilience is the capacity of systems to survive, adapt and grow no matter what kinds of acute \\nshocks and chronic stresses they experience. Attributes of a resilient system include the following: \\nrobust, flexible, reflexive, resourceful, inclusive, integrated and redundant \\n \\nClimate finance refers to local, national or transnational financing —drawn from public, private \\nand alternative sources of financing —that seeks to support mitigation and adaptation actions that \\nwill address climate change.'), Document(metadata={'producer': 'PDFium', 'creator': 'PDFium', 'creationdate': 'D:20250905110408', 'source': './docs\\\\DESA-Intdiv-BGD.pdf', 'total_pages': 11, 'page': 4, 'page_label': '5'}, page_content='5 \\n2. PRESENT SCENARIO OF CLIMATE CHANGE IN \\nBANGLADESH \\n2.1 Climate change risks and impacts \\nBangladesh is consistently placed among the most climate vul nerable countries in the world. \\nThis can be attributed to a combination of biophysical, hydrogeological and socioeconomic \\nfactors. The country is geographically located within the active Ganges-Brahmaputra-Meghna \\ndelta in South Asia and possesses a flat, l ow-lying topography5. Owing to regional monsoon \\npatterns, the country also demonstrates extreme climate variability . As such, Bangladesh has \\nalways been subjected to a wide array of na tural disasters, with tropical cyclones, tidal storm \\nsurges, coastal and river flooding, droughts and salinity intrusion  being frequent phenomena. \\nAs the manifestation of climate change becomes increasingly apparent , it is expected that the \\nfrequency and magnitude of these climatic shocks and stresses will substantially worsen in the \\ncoming years. The state of climate vulnerability is further exacerbated by the country’s high \\npopulation density and incidence of poverty, along with weak infrastructure and governance \\nsetups. The impacts of climate change in Bangladesh are expected to be so overwhelming that \\nit will cascade through all  sectors of the economy starting  from food security to water \\nmanagement, and from safeguarding ecosystems to securing energy, hindering overall \\nsocioeconomic development and prosperity of the country. \\nIn Bangladesh the impacts of climate change can be seen to impact the country’s agriculture \\nand food production. Climate change impacts such as rising temperature, reaching critical \\nlevels in Bangladesh during the susceptible stages of the rice  plants, could potentially affect \\noverall rice production 6.  The increasing temperature also leads to rise in sea levels, which \\naffects coastal and deltaic rice production in Bangladesh. A study from the World Bank denotes \\nthat with soil salinity increasing as a result of climate change, by 2050 at  least 9 coastal areas \\nin Bangladesh could see rice yield declining by 15.6% .7 Bangladesh is largely dependent on \\nthe fisheries sector, making up at  least 23% of the country’s agriculture sector. 8 The impacts \\nof climate change such as salinity intrusion, riverbank erosions, and storm surges can lead to \\nscarcity of various breeds of fishes that are unable to breed in saline water, threatening the \\nfisheries industry as well. In addition, other crops, such as wheat, potato, maize, sugarcane and \\nsoybeans are also projected to suffer yield decreases due to the impacts of a changing climate.  \\n \\n5 Brammer, H. (1990). Floods in Bangladesh: Geographical Background to the 1987 and 1988 Floods. The \\nGeographical Journal 156 (1):12-22. \\n6 Wassmann, R., Jagadish, S.V.K., Sumfleth, K., Pathak, H., Howell, G., Ismail, A., Serraj, R., Redona, E., Singh, R. \\nK., & Heuer, S. (2009). Regional vulnerability of climate change impacts on Asian rice production and scope for \\nadaptation. In: Sparks, D.L. ed. Advances in Agronomy. Burlington, MA: Academic Press. 102, 91-133 \\n7 Allison, E.H., Perry, A.L., Badjeck, M.C., Neil Adger, W., Brown, K., Conway, D., Halls, A.S., Pilling, G.M., \\nReynolds, J.D., Andrew, N.L. & Dulvy, N.K. (2009). Vulnerability of nati onal economies to the impacts of climate \\nchange on fisheries. Fish and Fisheries. 10(2), 173-196 \\n8 Ahmed, A.U., S. Haq, M. Nasreen, and A.W. Raghib Hassan. 2015. Sectoral Inputs towards the Formulation of \\nSeventh Five Year Plan (2016-2020): Climate Change and Disaster Management.'), Document(metadata={'producer': 'PDFium', 'creator': 'PDFium', 'creationdate': 'D:20250905110408', 'source': './docs\\\\DESA-Intdiv-BGD.pdf', 'total_pages': 11, 'page': 5, 'page_label': '6'}, page_content='6 \\nClimate change will increase the frequency of  river and tidal flooding in Bangladesh, leading \\nto loss of both lives and liveliho ods. Changes in the rainfall pattern, already visible in many \\nregions, will become more and more prevalent, contributing  to inconsistencies in water \\navailability for household, commercial and industrial use . More devastating floods and \\ncyclones can be expe cted, which will impact the water supply as well as the sanitation \\ninfrastructure in the country. 9In order to meet the growing agriculture demand and in light of \\nworsening drought conditions, groundwater extraction has also accelerated, which  is depleting \\nthe country’s natural water table. In addition, issues such as sea level rise and salinization of \\ncoastal areas are threatening the availability of potable water in many parts of Bangladesh.  \\nLivelihood in Bangladesh is highly dependent upon natural resources. The country’s land area \\nis covered by freshwater ecosystems and hosts the world’s largest mangrove forest - the \\nSundarbans. The Sundarbans in Bangladesh, covers 580,000 hectares of land and is home to at \\nleast 334 known plant species and 269 animal species. Impacts of climate change such as a \\npotential 45 cm sea level rise by the year 2050 could inundate the  Sundarbans, and cause an \\nextreme imbalance to the saltwater and freshwater composition, destroying the habitat for a \\nvariety of species and dama ging biodiversity. Other risks such as increased temperatures \\ncausing drier conditions and prolonged droughts have increased the prevalence of forest fires. \\nHowever, it should be mentioned that due to the country’s successful conservation efforts has \\nbeen successful in reducing forest loss in the Sundarbans in recent years.   \\nOther areas that are facing adverse impacts of climate change include the energy sector. The \\nrelation between climate change and energy is  two-fold; production of electricity is often \\ndependent on burning fossil fuels which contribute towards climate change, and then the \\nimpacts of climate change itself prevents power production in the country. As extreme weather \\nevents become more frequent,  energy infrastructure in the country  such as p ower plants, \\ntransmission lines, will be subjected to damage, causing reductions in overall energy supply. It \\nis suggested that the combination of increasing energy demand and increasing risks to supply \\ndue to climate change are likely to result in higher energy prices, affecting access for the poor.  \\nThe growing impacts of climate change can also be seen to affect human health. For example, \\nmany diseases, such as diarrhoea, cholera and other water borne diseases, occur when water \\nsources are contaminat ed during disasters such as floods and cyclones. It is also understood \\nthat the rising salinity levels in coastal regions impact pregnant women, causing health issues \\nsuch as hypertension and increase in blood pressure. Many people are also displaced due to the \\nimpacts of climate change destroying their livelihoods, and they are particularly susceptible to \\nailments such as malnutrition and vector borne diseases from living in poor environmental \\nconditions. \\n \\n9 General Economics Division (GED) (2009). Policy Study on The Probable Impacts of Climate Change on \\nPoverty and Economic Growth and the Options of Coping with Adverse Effect of Climate Change in \\nBangladesh.'), Document(metadata={'producer': 'PDFium', 'creator': 'PDFium', 'creationdate': 'D:20250905110408', 'source': './docs\\\\DESA-Intdiv-BGD.pdf', 'total_pages': 11, 'page': 6, 'page_label': '7'}, page_content='7 \\n2.2 Institutional and Policy Framework of Climate Action in Bangladesh \\n \\nOver the past couple of decades, the Government of Bangladesh has made remarkable strides \\nin combatting climate change issues in the country. The country has been a forerunner when it \\ncomes to adaptation efforts and signif icant steps have been taken to integrate climate action \\nwithin various national legal, policy and financial frameworks.  \\n \\nBangladesh was one of the first LDCs to develop the National Adaptation Programme of \\nAction (NAPA)10 – a document that identifies acti vities for addressing the immediate needs \\nfor climate change adaptation in the country. It was prepared in 2005 by the Ministry of \\nEnvironment and Forests (MoEF), in wide consultation with the government and other \\nstakeholders, and revised in 2009. The NAP A was built on four pillars – i) Food security, ii) \\nEnergy security, iii) Water security and iv) Livelihood security. \\n \\nIn 2009, the Bangladesh Climate Change Strategy and Action  Plan (BCCSAP) 11 was \\nprepared which serves as the primary strategic framework d ocument for guiding climate \\nchange action in the country. It underlines 44 programmes of action to be undertaken over the \\nshort, medium and long term, within six thematic areas: i) Food security, social protection and \\nhealth, ii) Comprehensive disaster management, iii) infrastructure, iv) research and knowledge \\nmanagement, v) mitigation and low -carbon development, and vi) capacity building  and \\ninstitutional strengthening. The document is currently in the process of being revised, and the \\nupdated version is  expected to underscore new priorities and action areas necessary for \\naddressing climate change risks and vulnerability in the country.  Subsequently, the Climate \\nChange Trust Act 2010 12 was enacted to provide a legal basis for enabling transparency of \\nclimate action in the country. The act dictates various rules, regulations, guidelines and \\noperational procedures for submission, approval and amendment of project proposals as well \\nas release and utilisation of funds for climate change.  \\n \\nIn 2017, the Bangladesh Country Investment Plan for Environment, Forestry and Climate \\nChange (CIP -EFCC)13 was launched with support from FAO.  The document provides a \\nstrategic framework for planning and coordination of national and international investments on \\nenvironment, forestry and climate change sector in Bangladesh. The overall goal of this \\ndocument to enhance the contribution of these sectors towards sus tainable development in \\nBangladesh. The document identifies 14 coherent and coordinated investment programmes  \\nover a five -year period of 2016 -2021, across four pillars – i) sustainable development and \\nmanagement of natural resources; ii) environmental poll ution reduction and control; iii)  \\nadaptation and resilience to, and mitigation of climate change; and iv) environment \\ngovernance, gender and human and institutional capacity developmen t. The framework also \\n \\n10 MoEF, G. (2005). National adaptation programme of action (NAPA). Government of Bangladesh.  \\n11 MoEF. (2009). Bangladesh Climate Change Strategy and Action Plan (BCCSAP). Government of Bangladesh \\n12 Government of Bangladesh. (2010). THE CLIMATE CHANGE TRUST ACT, 2010 ACT NO. LVII  OF 2010.  \\n13 MoEF. (2017). Bangladesh Country Investment Plan for Environment, Forestry and Climate Change (2016 – \\n2021).'), Document(metadata={'producer': 'PDFium', 'creator': 'PDFium', 'creationdate': 'D:20250905110408', 'source': './docs\\\\DESA-Intdiv-BGD.pdf', 'total_pages': 11, 'page': 7, 'page_label': '8'}, page_content='8 \\nspecifies actions and targets that the Government has submitted to the UNFCCC in pursuance \\nof the Paris Agreement. The total cost of the CIP-EFCC has been estimated at USD 11.7 billion \\nof which 40 percent has already been financed through the government’s own sources and \\ncontributions from development partners.  \\n \\nBangladesh also recognizes the important of long-term vision and planning for addressing the \\nissue of climate change. Accordingly, the Bangladesh Delta Plan 2100 (BDP 2100) has been \\nformulated with  support fro m the Government of Netherlands. It i s a long -term strategy \\ndocument which seeks to integrate the short to medium term aspirations of Bangladesh to \\nachieve the status of Upper Middle-Income Country (UMIC) by 2030 and that of a prosperous \\ncountry by e radicating extreme poverty by 2041. The plan delineates r obust and integrated \\nstrategies, and subsequent interventions for ensuring long term water and food security, \\neconomic growth and environmental sustainability in Bangladesh while effectively reducing \\nvulnerability to natural disasters and building resilience to climate change impacts. Investment \\npriorities across a range of sectors have also been proposed.  \\n \\nBangladesh is adopting two-fold approach to combatting climate change. While the country’s \\nprimary focus is on reducing vulnerability and increasing resilience to the impacts of climate \\nchange, it is also pursuing the agenda of  low-carbon development through reduction of \\ngreenhouse gas (GHG) emissions. Bangladesh submitted its Intended Nationally Determined \\nContributions (INDC) 14 to the UNF CCC in September 2015 which puts forth mitigation \\nactions planned by the country to contribute to global efforts of GHG emissions reduction. In \\nthe NDC, Bangladesh committed to reduce GHG emissions in the power, industry and transport \\nsectors by 5 percent below ‘business-as-usual’ GHG emissions by 2030, or by 15 percent below \\n‘business-as-usual’ GHG emissions by 2030 if enough and appropriate support is received from \\ndeveloped countries. Considering adaptation is a priority for the country, the NDC also lay s \\nout adaptation goals and objectives. Subsequently, a ten-year Implementation Roadmap for \\nthe Nationally Determined Contribution (NDCs) 15 for 2016 -2025 had been prepared  to \\nmanage growing emissions without com promising economic development. NDC Sectoral \\nAction Plans have been produced for the power, industry and t ransport sectors as per the \\nroadmap. It is expected that the roadmap will be a ‘living’ document to be updated over time \\nto adapt to changing contexts . Presently, the government is conducting a stocktake of \\nmitigation measures undertaken between 2015 and 2020, and is in the process of updating and \\ndeveloping enhanced NDC.16 \\n \\nRemarkable efforts have also been  made to integrate climate action within the c ountry’s \\nmedium and long-term development plans. The upcoming Perspective Plan (2021-2041) and \\n8th Five -year Plan (2021 -2025) which are in formulation are expected to cover various \\naspects of climate change mainstreaming. Climate action has also been incor porated as a part \\nof the country’s various sectoral plans and strategies. This includes the National Agriculture \\n \\n14 MOEF. (2015). Intended Nationally Determined Contributions (INDC). Governm ent of Bangladesh.  \\n15 MoEFCC (2018). Roadmap and Action Plan for Implementing Bangladesh NDC. Government of Bangladesh.  \\n16 MOEFCC. (2020). Nationally Determined Contributions 2020 (Interim). Government of Bangladesh.'), Document(metadata={'producer': 'PDFium', 'creator': 'PDFium', 'creationdate': 'D:20250905110408', 'source': './docs\\\\DESA-Intdiv-BGD.pdf', 'total_pages': 11, 'page': 8, 'page_label': '9'}, page_content='9 \\nPolicy (2018), National Plan for Disaster Management (2016 -2020), National Water \\nManagement Plan: Development Strategy (2011), Coastal Zone Policy (2005) etc. \\n \\nThere have been advancements towards setting up necessary financial frameworks for \\naddressing climate change in the country. In 2012, Bangladesh completed a Climate Public \\nExpenditure and Institutional Review (CPEIR)  to assess the policy, institutional and \\nfinancial management of climate change activities in the country17. This led to the adoption of \\nthe Climate Fiscal Framework (CFF)18 in 2014, with the intent to guide climate fiscal policy \\nmaking in Bangladesh by outlining tools and appro aches and embedding climate action \\ncomponents within the country’s public financial management systems. The CFF has been \\nupdated in 2020 with a broadened scope which includes the role of private sector, NGOs and \\nCSOs in climate finance, and also highlights additional policies on lending and insurance.  \\n \\nBangladesh has also taken active measures for realizing the UN Sustainable Development \\nGoals (SDG). While SDG13 is specifically focused on Climate Action, several of the SDGs \\nare interconnected and have syne rgies with climate change due to the cross -cutting, dynamic \\nnature of the issues. The government prepared the National Sustainable Development \\nStrategy (NSDS) 19 for 2010 -2021, which emphasises addressing environmental challenges \\nthat Bangladesh faces in the way to development. Climate change is actively considered in the \\nstrategy and action areas highlighted include the rehabilitation and climate proofing of coastal \\npolders with especial focus on removing water logging, disaster risk reduction, mainstreaming \\ndisaster risk reduction and climate change, coastal char land afforestation, development of \\nclimate stress tolerant crop varieties and utilisation of climate change funds. Through a “whole \\nof society” approach, ensuring  wider participation of NGOs, development partners, private \\nsector, media and CSOs a National Action Plan for the Implementation of the SDGs20 has \\nbeen formulated, which identifies action areas across all relevant ministries and sectors. \\n \\n2.3  Key actors and stakeholders \\n \\nThe Ministry of Environment, Forests and Climate Change (MoEFCC ) serves as the lead \\nnational institution for coordinating and overseeing all climate change related activities in the \\ncountry. The ministry has been in charge of formulating and directing the various policies \\nrelevant to climate change including the NAPA, BCCSAP, NDCs etc. The ministry led the \\nestablishment of the fl agship Bangladesh Climate Change Trust Fund (BCCTF), which \\noperates under its supervision and guidance. MoEFCC also represents Bangladesh at \\ninternational negotiations under the UNFCCC, number of UNFCCC committees, and other \\nconferences on multinational environmental agreements. MoEFCC has led the Initial National \\n \\n17 Steel, P., Islam, T. (2012). The Bangladesh Climate Public Expenditure a nd Institutional Review (CPEIR). UNDP. \\n18 Ministry of Finance. (2020). Bangladesh Climate Fiscal Framework. Government of Bangladesh.  \\n19 Ministry of Finance. (2013). National Sustainable Development Strategy (NSDS) 2010 -2021. Government of \\nBangladesh. \\n20 General Economics Division (GED). (2018). National Action Plan of Ministries/Divisions by Targets for the \\nImplementation of SDGS. Government of Bangladesh.'), Document(metadata={'producer': 'PDFium', 'creator': 'PDFium', 'creationdate': 'D:20250905110408', 'source': './docs\\\\DESA-Intdiv-BGD.pdf', 'total_pages': 11, 'page': 9, 'page_label': '10'}, page_content='10 \\nCommunication (INCom), the Second National Communication (SNC) as well as the Third \\nNational Communications (TNC) to the UNFCCC.  Furthermore, MoEFCC responds to \\nqueries on Bangladesh’s preparation and response to climate change in the national parliament. \\nThe MoEFCC also chairs the Local Consultative Group (LCG) on Climate Change and \\nEnvironment, which is an apex coordination mechanism between the government and \\ndevelopment partners on environment and climate change programs in Bangladesh. MoEFCC \\nhas led the process of identifying institutional focal point for climate change within each \\nnational ministry/agency and accordingly provides them with basic training on climate change \\nissues. They also fa cilitate inter -ministerial coordination through these focal points. \\nDepartment of Environment (DoE) under the MoEFCC plays subsidiary functions to support \\nall of the above. \\n \\nSeveral other ministries and associated government divisions / departments / programmes are \\nengaged in supporting climate change adaptation and mitigation in varying capacities. Some \\nof the major ones are provided in the table below: \\n \\nMinistry of Environment, Forests \\nand Climate Change \\nDepartment of Environment  \\nDepartment of Forests \\nMinistry of Disaster Management \\nand Relief \\nDepartment of Disaster Management  \\nCyclone Preparedness Programme (CPP) \\nMinistry of Agriculture Department of Agricultural Extension \\nNational Agricultural Research System (NARS) \\nMinistry of Fisheries and Livestock  Department of Fisheries \\nDepartment of Livestock \\nMinistry of Water Resources  \\nBangladesh Water Development Board (BWDB) \\nInstitute of Water Modeling \\nFlood Forecasting and Warning Center \\nCentre for Environmental and Geographic Information Services \\nMinistry of Power, Energy and \\nMineral Resources  \\nEnergy and Mineral Resources Division \\nSustainable Renewable Energy Development Authority (SREDA) \\nMinistry of Local Government, \\nRural Government & Cooperatives  \\nLocal Government Engineering Department (LGED) \\nDepartment of Public Health Engineering (DPHE) \\nLocal Government Division \\nMinistry of Planning \\nGeneral Economics Division (GED) \\nProgramming Division \\nPlanning Division \\nMinistry of Finance Economic Relations Division (ERD) \\n \\n \\nThe agencies presented above are responsible for the execution and management of key \\nphysical and social infrastructure targeted at reducing disaster risk and protecting climate \\nsensitive sectors in Bangladesh. They have served as executing entities for de livering a range \\nof climate -change related projects and programmes in the country, with support from \\ninternational development organizations as well as national non-state actors.'), Document(metadata={'producer': 'PDFium', 'creator': 'PDFium', 'creationdate': 'D:20250905110408', 'source': './docs\\\\DESA-Intdiv-BGD.pdf', 'total_pages': 11, 'page': 10, 'page_label': '11'}, page_content='11 \\nLocal governments, including Municipalities, Upazila Parishad and Union Par ishad, are also \\nessential for ensuring delivery of important social and infrastructure services to local \\ncommunities. They often act as direct agents at the community-level, driving efforts related to \\ndisaster preparedness, management and rehabilitation.  \\n \\nNon-state actors have been vital players for taking the agenda of climate action ahead in \\nBangladesh, serving as critical agents for reducing vulnerability and promoting climate \\nresilience in the country through their manifold services and expertise.  \\n \\n• NGOs and INGOs  substantially contribute towards disseminating information and \\nresearch on Bangladesh’s particular vulnerabilities to climate change, and have \\nadvocated strongly for immediate climate change adaptation measures over the past \\ntwo decades \\n• CBOs have the potential for designing and implementing locally appropriate \\napproaches, creating greater local ownership, and ensuring sustainability of \\ninterventions beyond donor-funded project cycles \\n• Research institutes, universities and think -tanks conduct app lied research and \\ngenerate necessary evidence through which future policies and action plans on climate \\nchange can be informed.   They also participate in international negotiation platforms, \\nsuch as the UNFCCC helping shape global discourse on the issue, and contributing \\ntowards lobbying efforts \\n• Private sector involvement in the social development and climate change sphere has \\nbeen growing in recent years. A number of banks and corporations are investing in \\ngreen, low-carbon initiatives, while there are se veral private entities developing stress \\ntolerant seed varieties and selling solar home systems. \\n• Media, in all forms, have a role to play in creating awareness on the urgency of climate \\naction among the public, both in Bangladesh and also globally \\n \\n \\nA list of key relevant stakeholders and their roles and responsibilities in the climate change \\nsphere has been provided in Annex 1.'), Document(metadata={'producer': 'PDFium', 'creator': 'PDFium', 'creationdate': 'D:20250905110550', 'source': './docs\\\\DESA-Intdiv-BGD_1.pdf', 'total_pages': 4, 'page': 0, 'page_label': '1'}, page_content=\"12 \\n3. CLIMATE FINANCE LANDSCAPE IN BANGLADESH \\n3.1 International streams \\n \\nConsidering the country' high vulnerability to climate change impacts, Bangladesh has been a \\npriority recipient of financial support from several multilateral and bilateral climate financing \\nentities over the years. An overview on the key sources of international funds that have found \\nprominence for climate action in the country is presented below. \\n \\nGlobal Environmental Facility (GEF),  which is the oldest dedicated financial institution \\nfocused on environmentally sustainable development, has been a major contributor t o \\nimplementing climate change related projects and programs in Bangladesh. In the past decade \\nor so, 43 projects amounting to a total of USD 160 million in the form of grants and USD 1,037 \\nmillion in co -financing21, have been supported by the GEF Trust Fun d. GEF also manages \\nother UNFCCC funds including  the Least Developed Countries Fund (LDCF)  and the \\nSpecial Climate Change Fund (SCCF) . Till date, LDCF has approved a total of USD 34.4 \\nmillion has been across seven (7) projects in the country.  \\n \\nClimate Inv estment Funds (CIF)  has been another major source of multilateral climate \\nfinance in Bangladesh. Under the CIF, the Pilot Programme for Climate Resilience (PPCR) \\n22was established in 2008 with the aim to support developing countries in integrating climate \\nresilience into development planning processes. PPCR has approved 11 projects in Bangladesh \\nso far with a total fund of USD 176.66 million of funding and USD 1049.01 million co -\\nfinancing. Support from PPCR has been essential  in improving climate-resilient agriculture \\nand food security, reliability of freshwater supply, sanitation and infrastructure, and enhancing \\nthe resilience of coastal communities in Bangladesh... Scaling up Renewable Energy in Low \\nIncome Countries Programme (SREP)23 under CIF have recently disbursed USD 75 million \\nin grants and low-cost financing from to catalyse investments in utility-scale renewable energy \\nprojects and expand off-grid solar markets in Bangladesh. \\n \\nThe Green Climate Fund (GCF) has emerged as the prin cipal multilateral vehicle for  \\nchannelling climate finance in developing countries worldwide. Bangladesh has made \\nsignificant progress in engaging with the fund through setting up a National Designated \\nAuthority (NDA) in the Economic Relations Division (ER D) under the Ministry of Finance, \\nand establishing two national organizations as Direct Access Entities (DAE), namely the Palli \\nKarma-Sahayak Foundation and IDCOL. Till date, USD 351.1 million has been approved by \\n \\n21 GEF. (2021). Bangladesh: Country-At-A-Glance. URL: https://www.thegef.org/country/bangladesh. Last \\naccessed on 07 July 2021 \\n22 Government of Bangladesh. (2010). Bangladesh: Strategic Program for Climate Resilience (SPCR). Available \\nat:https://www.climateinvestmentfunds.org/sites/default/files/PPCR%205%20SPCR%20Bangladesh%20nov20\\n10.pdf  \\n23 SREDA. (2015). Scaling Up Renewable Energy in Low Income Countries (SREP). Government of Bangladesh. \\nAvailable at:  https://www.climateinvestmentfunds.org/sites/default/files/meeting-\\ndocuments/bangladesh_srep_ip_final.pdf\"), Document(metadata={'producer': 'PDFium', 'creator': 'PDFium', 'creationdate': 'D:20250905110550', 'source': './docs\\\\DESA-Intdiv-BGD_1.pdf', 'total_pages': 4, 'page': 1, 'page_label': '2'}, page_content='13 \\nthe fund across five projects focused on climate resilient infrastructure, flood protection, clean \\ncook and enhancing adaptive capacities of women in coastal communities. A total of USD 5.1 \\nmillion to support readiness activities aimed building the capacity of national institutions and \\nsystems for better accessing and delivering on the fund.24 \\n \\nMultilateral Development Banks (MDBs) such as the World Bank and the Asian Development \\nBank (ADB) and UN organizations such as UNDP, UNEP, FAO, UNCDF , have been \\nimportant catalysts in the social and economic  development of Bangladesh  ever since its \\nindependence in 1971. Their role in facilitating climate action in Bangladesh has been \\ninstrumental. Over the years, they have provided various forms of financial, technical and \\nadvisory support to both Government and non -government actors to spearhead action on \\nclimate change. They also represent primary intermediaries for channelling multilateral climate \\nfunds in the country  through their status as Implementing Entities or GEF Partner Agencies. \\nThey also take unde rtake Readiness Support Programmes to help build capacity of national \\ninstitutions better access climate finance. In addition, World Bank and ADB have established \\nspecial financing facilities to promote low-carbon, climate resilient development in its member \\nstates, including Bangladesh.  \\n \\nBilateral assistance from donor countries and development partners have been a vital source of \\ninternational climate finance for Bangladesh. Over the years, development partners have \\nchannelled millions in Overseas Development Assistance (ODA) to support climate action in \\nthe country. They have made important contributions to the many multilateral public climate \\nfunds, and have set up number of dedicated programs and funds for supporting climate change \\nactivities. Bilatera l support to Bangladesh is typically delivered through their respective \\ndevelopment agencies, and the major ones include DFID in the United Kingdom (recently \\nmerged with the Foreign, Commonwealth and Development Office of the UK), USAID in the \\nUnited State s, GIZ in Germany and SIDA in Sweden. These development partners have \\ncollaborated with national government entities, multilateral organizations, NGOs and INGOs \\nto deliver small, medium and large scale adaptation interventions across a wide array of sectors \\nand thematic areas. \\n \\nInternational philanthropic or charity organizations that do not represent a government or a \\nmultilateral agency have also served as important sources of complementary financing towards \\nclimate relevant projects and programming in Bangladesh . Notable ones include the \\nRockefeller Foundation, the Asia Foundation. In addition, several international non -\\ngovernmental organizations (INGOs) are operational in Bangladesh. INGOs channel f unds \\nfrom bilateral and multilateral sources and cooperate with other actors, to implement climate \\nchange activities in the country. Some of the noteworthy INGOs  in Bangladesh that have been \\nactively engaged in climate action, are Action Aid, CARE, Carita s, Christian Aid, Concern \\nWorldwide, International Union for Conservation of Nature (IUCN), Islamic Relief, Oxfam, \\nPractical Action. \\n \\n24 Green Climate Fund (GCF). (2021). Country Profile: Bangladesh. Available at: \\nhttps://www.greenclimate.fund/countries/bangladesh'), Document(metadata={'producer': 'PDFium', 'creator': 'PDFium', 'creationdate': 'D:20250905110550', 'source': './docs\\\\DESA-Intdiv-BGD_1.pdf', 'total_pages': 4, 'page': 2, 'page_label': '3'}, page_content='14 \\n3.2 Domestic resources \\n \\nResources at the national level have and continue to be primary contributors for implementing \\nclimate change interventions in Bangladesh. Climate change projects and other development \\nprojects with climate change components in Bangladesh are funded through either the revenue \\nbudget or the development budget drawn from the country’s Annual Development Programme \\n(ADP).  The revenue budget is financed from domestic revenues and pays for regular \\ngovernment operations, and as such Ministry of Finance provides support to different line \\nministries to implement climate relevant projects and activities in the country . The ADP is \\nfinanced through foreign and local resources and covers investment projects and technical \\nassistance. The ADP supports capital investments that are aligned with the government’s long-\\nterm development policies, programs, and investment. ADP pro jects are prepared by line \\nministries and are subject to review and approval by the Planning Commission. \\n \\nSince the establishment of the CFF in 2014, the government has taken initiatives to track \\nclimate relevant expenditures across various ministries and departments. Projects and spending \\nthat respond to the six thematic areas of the BCCSAP, are considered to be 100% climate \\nrelevant. The Climate Budget Report 2020 -2021 produced by the Ministry of Finance, \\nreviewed climate related allocation  and expenditure trend across twenty -five \\nMinistries/Divisions which have climate actions and priorities of varying scale covering the \\nperiod from FY2016 -17 to FY2020 -21. The total budget allocation of these twenty -five \\nMinistries/Divisions accounts for 56.69% of the national budget of FY2020 -21. In the period \\nof FY2016 -17 to FY2020 -21, climate relevant allocation as percentage of total budget of \\ntwenty-five Ministries/Divisions have been between 7.4% and 7.8%. However, climate \\nrelevant allocation in absolu te terms increased from BDT 143,231 million (approx. USD 1.7 \\nbillion) to BDT 242,257 million in FY2020 -2125. This demonstrates the government’s \\ncommitment towards supporting climate action using domestic resources.  \\n \\nOne of the most remarkable initiatives taken by the Government of Bangladesh to combat \\nclimate change issues in the country, has been the  establishment of the Bangladesh Climate \\nChange Trust Fund (BCCTF) . BCCTF was set up in 2009 with the primary objective of \\nimplementing interventions laid out in the BCCSAP, It represents one of the earliest examples \\nof a national climate fund and is resourced from revenues arising from the annual non -\\ndevelopment budget. Between FY 2009-10 to FY 2019-20, a total of BDT 38 billion (approx. \\nUSD 450 million) has been allocated to the fund to support climate change interventions across \\na range of sectors and thematic areas. In addition, following the CPEIR and the adoption of the \\nCFF, efforts have been made by the government to embed climate action within national public \\nfinancial management systems. Since 2017, significant budgetary resources have been \\nallocated towards climate sensitive expenditures across various ministries and departments. \\n \\n25 \\nhttps://mof.portal.gov.bd/sites/default/files/files/mof.portal.gov.bd/page/6e496a5b_f5c1_447b_bbb4_257a2\\nd8a97a1/2020-2021_Climate_BR_English.pdf'), Document(metadata={'producer': 'PDFium', 'creator': 'PDFium', 'creationdate': 'D:20250905110550', 'source': './docs\\\\DESA-Intdiv-BGD_1.pdf', 'total_pages': 4, 'page': 3, 'page_label': '4'}, page_content='15 \\nFor the FY 2020 -2021, the government has made a cumulative climate budget allocation for \\n25 ministries / divisions accounting for 56.69, of which 7.52% is climate relevant.26 \\n \\nIn addition to government resources, public and commercial banks, and non-banking \\nfinancial institutions (NBFI) have also been contributing towards fostering low-emission and \\nclimate compatible infrastructure development in the country. Bangladesh Bank, the Central \\nBank of the country has been an active proponent in promoting green development in the \\ncountry. In 2011, the bank launched a comp rehensive green banking initiative to support and \\npromote environmentally responsible financing. Under this initiative, the bank started offering \\nincentive based schemes, e.g. financing facilities at a very low interest rate, to commercial \\nbanks and financ ial institutions in the country for lending in green projects.  In 2016, \\nBangladesh Bank launched the USD 200 million Green Transformation Fund. That same year, \\nbanking and non-banking financial institutions in the country were instructed by Bangladesh \\nBank to set aside 10% of the CSR funds towards a Climate Risk Fund. Building on these \\nlessons and practices, the Sustainable Finance Policy for Banks and Financial Institutions \\nwas formulated to provide guidance and regulations for greening initiatives to be u ndertaken \\nby banks and financial institutions in Bangladesh.27 \\n \\n26 Ministry of Finance. (2019). Climate Financing For Sustainable Development : Budget Report (2019-2020). \\nGovernment of Bangladesh.  \\n27 Bangladesh Bank. (2020). Sustainable Finance Policy. Government of Bangladesh. Available at: \\nhttps://www.bb.org.bd/mediaroom/circulars/gbcrd/dec312020sfd05.pdf'), Document(metadata={'source': './docs\\\\DESA-Intdiv-BGD_text.docx'}, page_content='STRATEGIC CONSIDERATIONS\\n\\n\\n\\n\\n\\nAs established earlier, there is a wide array of options at national and international level for financing climate change interventions in Bangladesh, with differences in funding conditions, focus areas as well as access modalities. Many of them offer special and unique features to help drive their agenda forward. Going ahead, there are a number of strategic considerations that stakeholders operating within the climate change sphere in Bangladesh should take account of, in order to enhance availability, access and utilisation of climate funds in the country. Some of these have been presented below:\\n\\n\\n\\n\\n\\n\\tBuilding capacity for developing bankable projects\\n\\n\\n\\nAccessing multilateral and bilateral climate financing typically requires applicants in developing countries to prepare strong project proposals that can be considered as bankable by the funders. Bankability of climate finance projects depend on a number of factors. One of the prominent ones is driven by the notion of ‘additionality’. Additionality in the context of climate finance dictates that funding for climate change should be ‘additional’ and separate from ‘traditional’ development aid programmes, wherein they must be targeted specifically for addressing climate risks and impacts. As such, funders place a strong emphasis on project proposals demonstrating the climate relevance and adaptation rationale of an investment. Proposals must clearly specify how a project will address climate risks now and in the future, and how proposed interventions are distinct from business-as-usual development activities.\\n\\n\\n\\nConsidering the uncertain and dynamic nature of climate change, specifying and calculating additionality can be also highly challenging. This requires the availability of, and access to high-quality weather and climate related data. While there are datasets available from different sources, there is no comprehensive database in Bangladesh, and there is often a lack of uniformity. This issue is exacerbated by the fact that many project implementers and relevant stakeholders in Bangladesh possess limited understanding on what exactly constitutes adaptation and therefore have difficulty establishing linkages between climate change risks and expected project outcomes and impacts. Proposal formats also require proponents to demonstrate cost-effectiveness and provide plans for results-based monitoring of project outputs and outcomes. Certain funders require proposals to be supported by comprehensive risk assessments and a number of feasibility studies which requires time and resources\\n\\n\\n\\nAs such, it is important to provide skills training and capacity building, and well as financial support to potential project proponents in Bangladesh to help them develop strong, robust project proposals and thereby secure climate funding from multilateral and bilateral sources. Research organizations, training institutes, NGOs and CBOs as well as the private sector can support this process. Also, GCF has set up a Project Preparation Facility (PPF)46, through\\n\\n\\n\\n46 Green Climate Fund (GCF). (2020). Project Preparation Facility (PPF) Guidelines.\\n\\n\\n\\nwhich they up to USD 1.5 million in financial and technical assistance for the preparation of project and programme funding proposals. PPF is accessible by the GCF Accredited Entities in the country.\\n\\n\\n\\n\\tEnhancing coordination among financial mechanisms and entities\\n\\n\\n\\nDespite the presence of various and funding mechanisms and entities in Bangladesh, they often operate in a disparate manner. Implementing agencies also tend to compete for funds. This often leads to overlapping actions, resulting in inefficient use of scarce financial resources. Also, due to the cross-sectoral nature of climate change, addressing the issue calls for a range of actors to collaborate with one another in assessing risks and problems, and identifying crucial and cost-effective solutions.\\n\\n\\n\\nAs such, there is a need for climate finance entities at various levels, national and international, to enhance coordination among themselves. This will allow for fairer and more efficient allocation of resources, help avoid duplication of efforts and achieve optimum benefits. Collaboration will also help ensure funded projects are well aligned with various national strategies and plans on climate change and development.\\n\\n\\n\\n\\n\\n\\tDecentralising the delivery of climate finance\\n\\n\\n\\nWhile ensuring sufficient quantity of climate finance is important, it would be just as critical to ensure effective utilization of these funds. Climate finance can only considered as effective, if they adequately address the needs of local communities, who are considered to be most vulnerable to the impacts of climate change. However, studies have found that less than 10% of mobilised global adaptation finance reaches the local level47. While several multilateral climate financing entities apply the principle of country ownership, it must be acknowledged that enabling fund access and management at the central government level does not necessarily ascertain that money will flow to the local level to those who need it the most. Many developing countries, including Bangladesh, often lack the necessary institutional capacity and governance structure to effectively do so.\\n\\n\\n\\nTherefore it would be important to establish mechanisms and democratic processes through which climate finance can be effectively channelled to local governments and authorities, who will then be responsible for the management and disbursement of funds at the local level. Structures and measures which allow for direct transfer of funds to local authorities should be put in place. At the same time efforts must be made to mainstream climate adaptation activities within local government planning and budgets. Delegation of responsibilities should be such that local authorities can define their own adaptation needs and practise flexibility in the usage of funds. To this end, capacities of local governments to undertake bottom-up climate risk\\n\\n\\n\\n47 Soanes, M, Shakya, C, Walnycki, A and Greene, S. 2019. Money where it matters: designing funds for the frontier. IIED Issue Paper. IIED, London.\\n\\n\\n\\nassessments, and also to practice transparent fiduciary management and institutional coordination will also need to be enhanced. As presented in the report earlier, the UNDCF LoCAL programme has made notable contributions to catalyse such a process in Bangladesh. Similar programmes will need to be explored by both multilateral funders and national policymakers\\n\\n\\n\\n\\n\\n\\tEngaging the private sector in climate change adaptation efforts\\n\\n\\n\\nThe private sector in Bangladesh has the potential to mobilize large volumes of investment towards climate action, and also develop efficient innovative solutions to the issue. While private actors are increasingly engaging in environment and climate friendly activities, but they have largely been geared towards mitigation. Their contribution in adaptation activities has been limited so far. This can be attributed to the limited understanding among private actors on the rewards or economic benefits that can arise from investing in adaptation interventions.\\n\\n\\n\\nTherefore, an enabling environment with necessary policies and regulatory frameworks should be in place to incentivize the private sector to invest in climate action. Knowledge exchange and lessons sharing among the private sector and other state and non-state actors should be promoted through setting up necessary platforms. Strong public-private partnerships (PPPs) can play a useful role here. PPPs allow the private sector to transfer some of the risks to the public, thereby increasing the likelihood of private investment in public projects. PPPs have the benefit of increasing quality of services, reducing implementation time as well as cost of providing goods and services. PPPs also transfer the risk to the private sector while promoting greater transparency and accountability.\\n\\n\\n\\nTo facilitate the realization of PPP projects in the country, the government has set up a Public- Private Partnership Authority (PPPA) and a Public Private Partnership Technical Assistance Fund (PPPTAF) has been established to this end. However the role of PPPA in climate action in not well understood and their participation in climate change decision-making and programming has been limited. It would be critical to catalyse their engagement in climate action area in Bangladesh, as they can play a vital role in promoting low-carbon, climate compatible infrastructure development in Bangladesh.\\n\\n\\n\\n\\n\\n\\tExploring diverse and innovative financial instruments\\n\\n\\n\\nAddressing the challenges posed by climate change, and compounded by the COVID19 pandemic in Bangladesh, would require exploring diverse and multifarious channels through financial support can be delivered and extended to those affected. This would entail looking beyond the predominant medium of loans and grants provided by multilateral climate finance entities and bilateral partners, and exploring additional instruments.\\n\\n\\n\\nClimate risk insurance offers a means through which financial risks associated with climate change, particularly extreme weather events, can be minimized. Climate risk insurance can come in many forms, of which weather-index based insurance has gained reasonable footing in recent years, particularly in the agriculture sector. Index-based insurance is a means through which smallholder farmers can be compensated for their losses, by offering payouts in correlation with a particular weather-index such as rainfall, temperature, precipitation etc. An innovative Index-Based Flood Insurance (IBFI) program has been recently developed by the International Water Management Institute (IWMI) in partnership with the CGIAR Research Program on Climate Change, Agriculture and Food Security (CCAFS), and other partners with a view to provide tailored solutions to smallholders farmers affected by climatic shocks and stressors in Haor areas of the country. 48\\n\\n\\n\\nClimate bonds or green bonds have emerged in recent years, as a promising financial instrument for attracting private sector investments in projects that offer environmental and climate change benefits. In 2021, Bangladesh launched its very first green bond, through a charity organization called the SAJIDA Foundation. The bond valued at approximately USD 12 million will help support and expand green and renewable energy projects in Bangladesh, and help ensure energy access for the poor and vulnerable49.\\n\\n\\n\\nMicrofinance has long been playing an instrumental role in poverty alleviation and socioeconomic empowerment of marginalized communities in Bangladesh. Their role in climate change adaptation needs to be better understood. Microfinance not only helps contribute to livelihood diversification of vulnerable communities, but also helps build their adaptive capacity through teaching them asset management50. In addition, microfinance institutions in Bangladesh have country-wide networks of delivery, and can thus reach a larger population through their services. Both funders and project proponents need to explore how microfinance can be integrated within the delivery of climate change projects and programmes.\\n\\n\\n\\n\\n\\n\\n\\n\\n\\n\\n\\n\\n\\n\\n\\n\\n\\n\\n\\n\\n\\n\\n\\n\\n\\n\\n\\n\\n\\n\\n\\n48 Saini, S., Giriraj, A. (2020). INNOVATIVE INDEX-BASED AGRICULTURE INSURANCE: WHERE HOPE MEETS\\n\\nPOSSIBILITY. CCAFS. URL: https://ccafs.cgiar.org/news/innovative-index-based-agriculture-insurance-where- hope-meets-possibility. Retrieved on 12 July 2021\\n\\n49 Hossain, R. (2021). First ever Green Bond in Bangladesh approved for Sajida Foundation. Sajida Foundation. URL: https://sajidafoundation.org/first-ever-green-bond-in-bangladesh-approved-for-sajida-foundation/.\\n\\nRetrieved on 12 July 2021\\n\\n50 Hammill, A., Matthew, R., & McCarter, E. (2008). Microfinance and climate change adaptation. IDS Bulletin\\n\\n\\n\\n38\\n\\n38')]\n"
     ]
    }
   ],
   "source": [
    "print(documents)"
   ]
  },
  {
   "cell_type": "code",
   "execution_count": 14,
   "id": "eaa91d1c",
   "metadata": {},
   "outputs": [
    {
     "name": "stdout",
     "output_type": "stream",
     "text": [
      "page_content='2 \n",
      "6. Strengthening the capacity of meteorological and hydrological services to collect, \n",
      "analyze, interpret and disseminate weather and climate information to support the \n",
      "implementation of  \n",
      " \n",
      "In accordance with the above, several dedicated financing mechanisms have been set up over \n",
      "the years for addressing the issue of global climate change. One of the earliest of such entities \n",
      "is the Global Environment Facility (GEF) . GEF was established in 1992 as  an independent \n",
      "international cooperation  entity, mandated to help developing countries and countries with \n",
      "economies in transition meet the objectives of international climate change conventions, while \n",
      "enabling economic growth. GEF administers several funds targeted at supporting climate \n",
      "action i n LDCs. This includes , but is not limited to,  the Least Developed Countries Fund \n",
      "(LDCF) and the Special Climate Change Fund (SCCF). Established in 2001, LDCF remain the \n",
      "only dedicated funding mechanism out there aimed at exclusively supporting climate \n",
      "adaptation action in LDCs. As of 2020, the Fund has helped 51 countries with the preparation \n",
      "and implementation of their National Adaptation Programs of Action (NAPAs) and is presently \n",
      "supporting the formulation of National Adaptation Plans (NAPs) in these countries. The LDCF \n",
      "also supports the LDC work program under the UNFCCC.  \n",
      " \n",
      "The Adaptation Fund is a financial mechanism under the UNFCCC and Kyoto Protocol, \n",
      "financed partly by proceeds from Clean Development Mechanism (CDM) project activities and \n",
      "voluntary pledges of donor governments. Operational since 2010, the fund aims to support \n",
      "concrete adaptation activities in developing countries. Since its inception, the fund has \n",
      "committed USD 783 million towards climate adaptation and resilience activities, including  \n",
      "supporting 115 concrete adaptation projects, with over 27 million total dir ect and indirect \n",
      "beneficiaries. In 2010, the Green Climate Fund (GCF), was established and it  represents one \n",
      "of the most prominent climate financing channels in operation today.  I t has been designed to \n",
      "support both mitigation and adaptation activities for low-carbon climate resilient development \n",
      "in developing countries. It is mandated to invest 50% of its resources towards mitigation and \n",
      "50% towards adaptation activities. At least half of the resources for adaptation, are expected to \n",
      "be invested in the most climate vulnerable countries which include LDCs, Small Island \n",
      "Developing States (SIDS) and African States. Till date, the F und has committed around USD \n",
      "8.9 billion towards 177 projects across the globe.4 \n",
      " \n",
      "In addition to the above, multilateral development banks such as the Asian Development Bank, \n",
      "World Bank and the African Development Bank continue to make substantial financial \n",
      "contributions towards global climate action through their various schemes and programmes. \n",
      "Bilateral development partners have also been playing a crucial role,  and billions in Overseas \n",
      "Development Assistance (ODA) have been channelled over the years towards  reducing \n",
      "vulnerability and building resili ence to climate change in LDCs . Bilateral donors also \n",
      "contribute to the many multilateral public climate funds and have set up a number of dedicated \n",
      "programs and fund s for climate change activities. Furthermore, to help curb overreliance on \n",
      "external support, several LDCs have integrated climate related investments in their national \n",
      " \n",
      "4 Green Climate Fund (2021). URL: https://www.greenclimate.fund/. Retrieved on 14  July 2021' metadata={'producer': 'PDFium', 'creator': 'PDFium', 'creationdate': 'D:20250905110408', 'source': './docs\\\\DESA-Intdiv-BGD.pdf', 'total_pages': 11, 'page': 1, 'page_label': '2'}\n"
     ]
    }
   ],
   "source": [
    "print(documents[1])"
   ]
  },
  {
   "cell_type": "code",
   "execution_count": 15,
   "id": "c621ba30",
   "metadata": {},
   "outputs": [
    {
     "name": "stdout",
     "output_type": "stream",
     "text": [
      "page_content='alarming changes bear far -reaching impacts on the global economy, infrastructure, human \n",
      "health, ecosystems, biodiversity and the broader society in general. \n",
      " \n",
      "Least Developed Countries (LDCs) are particularly vulnerable to these impacts, owing to their \n",
      "limited technical, financial and institutional capacity to tackle the issue. In 1992, the United \n",
      "Nations Framework Convention on Climate Change (UNFCCC) was founded as a flagship \n",
      "international treaty for addressing global climate change. Article 4 of the Convention states \n",
      "that “the Parties shall take full account of the specific needs and special situations of the least \n",
      "developed countries in their actions with regard to funding and transfer of technology”. In order \n",
      "to implement this, the LDC work programme was established in 2001, and updated at the 24th \n",
      "session of the Conference of the Parties (COP) in December 2018 . The work program calls \n",
      "upon the following set of actions3:' metadata={'producer': 'PDFium', 'creator': 'PDFium', 'creationdate': 'D:20250905110408', 'source': './docs\\\\DESA-Intdiv-BGD.pdf', 'total_pages': 11, 'page': 0, 'page_label': '1'}\n"
     ]
    }
   ],
   "source": [
    "print(splits[1])\n"
   ]
  },
  {
   "cell_type": "code",
   "execution_count": 16,
   "id": "d0a552c7",
   "metadata": {},
   "outputs": [
    {
     "name": "stdout",
     "output_type": "stream",
     "text": [
      "{'producer': 'PDFium', 'creator': 'PDFium', 'creationdate': 'D:20250905110408', 'source': './docs\\\\DESA-Intdiv-BGD.pdf', 'total_pages': 11, 'page': 0, 'page_label': '1'}\n"
     ]
    }
   ],
   "source": [
    "print(splits[1].metadata)\n"
   ]
  },
  {
   "cell_type": "code",
   "execution_count": 17,
   "id": "54085721",
   "metadata": {},
   "outputs": [
    {
     "name": "stdout",
     "output_type": "stream",
     "text": [
      "alarming changes bear far -reaching impacts on the global economy, infrastructure, human \n",
      "health, ecosystems, biodiversity and the broader society in general. \n",
      " \n",
      "Least Developed Countries (LDCs) are particularly vulnerable to these impacts, owing to their \n",
      "limited technical, financial and institutional capacity to tackle the issue. In 1992, the United \n",
      "Nations Framework Convention on Climate Change (UNFCCC) was founded as a flagship \n",
      "international treaty for addressing global climate change. Article 4 of the Convention states \n",
      "that “the Parties shall take full account of the specific needs and special situations of the least \n",
      "developed countries in their actions with regard to funding and transfer of technology”. In order \n",
      "to implement this, the LDC work programme was established in 2001, and updated at the 24th \n",
      "session of the Conference of the Parties (COP) in December 2018 . The work program calls \n",
      "upon the following set of actions3:\n"
     ]
    }
   ],
   "source": [
    "print(splits[1].page_content)\n"
   ]
  },
  {
   "cell_type": "markdown",
   "id": "ee4ce9b6",
   "metadata": {},
   "source": [
    "### Embeddings \n",
    "<sub>convert the text in numerical format using embedding</sub>"
   ]
  },
  {
   "cell_type": "code",
   "execution_count": 18,
   "id": "065c808f",
   "metadata": {},
   "outputs": [
    {
     "name": "stdout",
     "output_type": "stream",
     "text": [
      "Create embeddings for 80 document chunks\n"
     ]
    }
   ],
   "source": [
    "from langchain_openai import OpenAIEmbeddings\n",
    "\n",
    "embeddings = OpenAIEmbeddings()\n",
    "document_embeddings = embeddings.embed_documents([split.page_content for split in splits])\n",
    "print(f\"Create embeddings for {len(document_embeddings)} document chunks\")"
   ]
  },
  {
   "cell_type": "code",
   "execution_count": 21,
   "id": "203fa7c7",
   "metadata": {},
   "outputs": [
    {
     "name": "stdout",
     "output_type": "stream",
     "text": [
      "[0.010834614746272564, -0.0075052944011986256, -0.006117546930909157, -0.012165069580078125, 0.009497794322669506]\n"
     ]
    }
   ],
   "source": [
    "print(document_embeddings[0][:5])"
   ]
  },
  {
   "cell_type": "markdown",
   "id": "08eb5403",
   "metadata": {},
   "source": [
    "### Make vector store \n",
    "<sub>Here we just need to pass the splits, embedding model instance, directory name and collection name</sub>"
   ]
  },
  {
   "cell_type": "code",
   "execution_count": 22,
   "id": "0300a248",
   "metadata": {},
   "outputs": [
    {
     "name": "stdout",
     "output_type": "stream",
     "text": [
      "Vector store created and persisted to chorma_db\n"
     ]
    }
   ],
   "source": [
    "from langchain_chroma import Chroma\n",
    "\n",
    "collection_name = \"collection-vector\"\n",
    "vectorStore = Chroma.from_documents(\n",
    "    collection_name=collection_name,\n",
    "    documents=splits,\n",
    "    embedding=embeddings,\n",
    "    persist_directory=\"./chorma_db\"\n",
    ")\n",
    "\n",
    "print(\"Vector store created and persisted to chorma_db\")"
   ]
  },
  {
   "cell_type": "markdown",
   "id": "6ccc92c9",
   "metadata": {},
   "source": [
    "### Perform Similarity Search"
   ]
  },
  {
   "cell_type": "code",
   "execution_count": 24,
   "id": "1f054921",
   "metadata": {},
   "outputs": [
    {
     "name": "stdout",
     "output_type": "stream",
     "text": [
      "\n",
      "Top 2 most relevant chunks for the query: 'In 2016 how much green transformation funds were launched by the Bangladesh Bank?'\n",
      "\n",
      "Result 1:\n",
      "Source: ./docs\\DESA-Intdiv-BGD_1.pdf\n",
      "Content: incentive based schemes, e.g. financing facilities at a very low interest rate, to commercial \n",
      "banks and financ ial institutions in the country for lending in green projects.  In 2016, \n",
      "Bangladesh Bank launched the USD 200 million Green Transformation Fund. That same year, \n",
      "banking and non-banking financial institutions in the country were instructed by Bangladesh \n",
      "Bank to set aside 10% of the CSR funds towards a Climate Risk Fund. Building on these \n",
      "lessons and practices, the Sustainable Finance Policy for Banks and Financial Institutions \n",
      "was formulated to provide guidance and regulations for greening initiatives to be u ndertaken \n",
      "by banks and financial institutions in Bangladesh.27 \n",
      " \n",
      "26 Ministry of Finance. (2019). Climate Financing For Sustainable Development : Budget Report (2019-2020). \n",
      "Government of Bangladesh.  \n",
      "27 Bangladesh Bank. (2020). Sustainable Finance Policy. Government of Bangladesh. Available at: \n",
      "https://www.bb.org.bd/mediaroom/circulars/gbcrd/dec312020sfd05.pdf\n",
      "\n",
      "Result 2:\n",
      "Source: ./docs\\DESA-Intdiv-BGD_1.pdf\n",
      "Content: 15 \n",
      "For the FY 2020 -2021, the government has made a cumulative climate budget allocation for \n",
      "25 ministries / divisions accounting for 56.69, of which 7.52% is climate relevant.26 \n",
      " \n",
      "In addition to government resources, public and commercial banks, and non-banking \n",
      "financial institutions (NBFI) have also been contributing towards fostering low-emission and \n",
      "climate compatible infrastructure development in the country. Bangladesh Bank, the Central \n",
      "Bank of the country has been an active proponent in promoting green development in the \n",
      "country. In 2011, the bank launched a comp rehensive green banking initiative to support and \n",
      "promote environmentally responsible financing. Under this initiative, the bank started offering \n",
      "incentive based schemes, e.g. financing facilities at a very low interest rate, to commercial \n",
      "banks and financ ial institutions in the country for lending in green projects.  In 2016,\n",
      "\n"
     ]
    }
   ],
   "source": [
    "query=\"In 2016 how much green transformation funds were launched by the Bangladesh Bank?\"\n",
    "search_results=vectorStore.similarity_search(query, k=2)\n",
    "\n",
    "print(f\"\\nTop 2 most relevant chunks for the query: '{query}'\\n\")\n",
    "for i, result in enumerate(search_results, 1):\n",
    "    print(f\"Result {i}:\")\n",
    "    print(f\"Source: {result.metadata.get('source', 'Unknown')}\")\n",
    "    print(f\"Content: {result.page_content}\")\n",
    "    print()\n"
   ]
  },
  {
   "cell_type": "code",
   "execution_count": null,
   "id": "ba13fdd4",
   "metadata": {},
   "outputs": [
    {
     "data": {
      "text/plain": [
       "[Document(id='7d4861e6-801b-4d3d-bf0f-c577d3a87976', metadata={'creator': 'PDFium', 'creationdate': 'D:20250905110550', 'total_pages': 4, 'source': './docs\\\\DESA-Intdiv-BGD_1.pdf', 'page_label': '4', 'page': 3, 'producer': 'PDFium'}, page_content='incentive based schemes, e.g. financing facilities at a very low interest rate, to commercial \\nbanks and financ ial institutions in the country for lending in green projects.  In 2016, \\nBangladesh Bank launched the USD 200 million Green Transformation Fund. That same year, \\nbanking and non-banking financial institutions in the country were instructed by Bangladesh \\nBank to set aside 10% of the CSR funds towards a Climate Risk Fund. Building on these \\nlessons and practices, the Sustainable Finance Policy for Banks and Financial Institutions \\nwas formulated to provide guidance and regulations for greening initiatives to be u ndertaken \\nby banks and financial institutions in Bangladesh.27 \\n \\n26 Ministry of Finance. (2019). Climate Financing For Sustainable Development : Budget Report (2019-2020). \\nGovernment of Bangladesh.  \\n27 Bangladesh Bank. (2020). Sustainable Finance Policy. Government of Bangladesh. Available at: \\nhttps://www.bb.org.bd/mediaroom/circulars/gbcrd/dec312020sfd05.pdf'),\n",
       " Document(id='7edc0684-17df-408c-81e8-f860ed4b78c2', metadata={'producer': 'PDFium', 'source': './docs\\\\DESA-Intdiv-BGD_1.pdf', 'page_label': '4', 'page': 3, 'creationdate': 'D:20250905110550', 'creator': 'PDFium', 'total_pages': 4}, page_content='15 \\nFor the FY 2020 -2021, the government has made a cumulative climate budget allocation for \\n25 ministries / divisions accounting for 56.69, of which 7.52% is climate relevant.26 \\n \\nIn addition to government resources, public and commercial banks, and non-banking \\nfinancial institutions (NBFI) have also been contributing towards fostering low-emission and \\nclimate compatible infrastructure development in the country. Bangladesh Bank, the Central \\nBank of the country has been an active proponent in promoting green development in the \\ncountry. In 2011, the bank launched a comp rehensive green banking initiative to support and \\npromote environmentally responsible financing. Under this initiative, the bank started offering \\nincentive based schemes, e.g. financing facilities at a very low interest rate, to commercial \\nbanks and financ ial institutions in the country for lending in green projects.  In 2016,')]"
      ]
     },
     "execution_count": 25,
     "metadata": {},
     "output_type": "execute_result"
    }
   ],
   "source": [
    "retriver = vectorStore.as_retriever(search_kwargs={\"k\": 2})\n",
    "retriver.invoke(query)"
   ]
  },
  {
   "cell_type": "markdown",
   "id": "8ef33db7",
   "metadata": {},
   "source": [
    "### Create RAG chain\n",
    "\n",
    "<sub>making the rag chain</sub>"
   ]
  },
  {
   "cell_type": "code",
   "execution_count": null,
   "id": "0f6140f5",
   "metadata": {},
   "outputs": [],
   "source": [
    "from langchain_core.prompts import ChatPromptTemplate\n",
    "template = \"\"\" Answer the question based only on the following context:\n",
    "{context}\n",
    "\n",
    "Question: {question}\n",
    "\n",
    "Answer:\n",
    "\"\"\"\n",
    "prompt=ChatPromptTemplate.from_template(template)"
   ]
  },
  {
   "cell_type": "code",
   "execution_count": 30,
   "id": "ba0338aa",
   "metadata": {},
   "outputs": [
    {
     "data": {
      "text/plain": [
       "ChatPromptValue(messages=[HumanMessage(content=\" Answer the question based only on the following context:\\n[Document(id='7d4861e6-801b-4d3d-bf0f-c577d3a87976', metadata={'total_pages': 4, 'source': './docs\\\\\\\\DESA-Intdiv-BGD_1.pdf', 'page': 3, 'page_label': '4', 'producer': 'PDFium', 'creator': 'PDFium', 'creationdate': 'D:20250905110550'}, page_content='incentive based schemes, e.g. financing facilities at a very low interest rate, to commercial \\\\nbanks and financ ial institutions in the country for lending in green projects.  In 2016, \\\\nBangladesh Bank launched the USD 200 million Green Transformation Fund. That same year, \\\\nbanking and non-banking financial institutions in the country were instructed by Bangladesh \\\\nBank to set aside 10% of the CSR funds towards a Climate Risk Fund. Building on these \\\\nlessons and practices, the Sustainable Finance Policy for Banks and Financial Institutions \\\\nwas formulated to provide guidance and regulations for greening initiatives to be u ndertaken \\\\nby banks and financial institutions in Bangladesh.27 \\\\n \\\\n26 Ministry of Finance. (2019). Climate Financing For Sustainable Development : Budget Report (2019-2020). \\\\nGovernment of Bangladesh.  \\\\n27 Bangladesh Bank. (2020). Sustainable Finance Policy. Government of Bangladesh. Available at: \\\\nhttps://www.bb.org.bd/mediaroom/circulars/gbcrd/dec312020sfd05.pdf'), Document(id='7edc0684-17df-408c-81e8-f860ed4b78c2', metadata={'producer': 'PDFium', 'source': './docs\\\\\\\\DESA-Intdiv-BGD_1.pdf', 'total_pages': 4, 'creationdate': 'D:20250905110550', 'creator': 'PDFium', 'page': 3, 'page_label': '4'}, page_content='15 \\\\nFor the FY 2020 -2021, the government has made a cumulative climate budget allocation for \\\\n25 ministries / divisions accounting for 56.69, of which 7.52% is climate relevant.26 \\\\n \\\\nIn addition to government resources, public and commercial banks, and non-banking \\\\nfinancial institutions (NBFI) have also been contributing towards fostering low-emission and \\\\nclimate compatible infrastructure development in the country. Bangladesh Bank, the Central \\\\nBank of the country has been an active proponent in promoting green development in the \\\\ncountry. In 2011, the bank launched a comp rehensive green banking initiative to support and \\\\npromote environmentally responsible financing. Under this initiative, the bank started offering \\\\nincentive based schemes, e.g. financing facilities at a very low interest rate, to commercial \\\\nbanks and financ ial institutions in the country for lending in green projects.  In 2016,')]\\n\\nQuestion: In 2016 how much green transformation funds were launched by the Bangladesh Bank?\\n\\nAnswer:\\n\", additional_kwargs={}, response_metadata={})])"
      ]
     },
     "execution_count": 30,
     "metadata": {},
     "output_type": "execute_result"
    }
   ],
   "source": [
    "from langchain.schema.runnable import RunnablePassthrough\n",
    "rag_chain = (\n",
    "    {\"context\": retriver, \"question\": RunnablePassthrough()} | prompt\n",
    ")\n",
    "\n",
    "rag_chain.invoke(\"In 2016 how much green transformation funds were launched by the Bangladesh Bank?\")"
   ]
  },
  {
   "cell_type": "markdown",
   "id": "61b2fcdc",
   "metadata": {},
   "source": [
    "<sub>if we direct pass the retriver then we will see that the document pass but we only need the page_content so we make a function that can extract only specific info from the page_content</sub>"
   ]
  },
  {
   "cell_type": "code",
   "execution_count": 31,
   "id": "019968a9",
   "metadata": {},
   "outputs": [],
   "source": [
    "def docs2str(docs):\n",
    "    return \"\\n\\n\".join(doc.page_content for doc in docs)"
   ]
  },
  {
   "cell_type": "code",
   "execution_count": 32,
   "id": "f09fd7a7",
   "metadata": {},
   "outputs": [
    {
     "data": {
      "text/plain": [
       "ChatPromptValue(messages=[HumanMessage(content=' Answer the question based only on the following context:\\nstakeholders, and revised in 2009. The NAP A was built on four pillars – i) Food security, ii) \\nEnergy security, iii) Water security and iv) Livelihood security. \\n \\nIn 2009, the Bangladesh Climate Change Strategy and Action  Plan (BCCSAP) 11 was \\nprepared which serves as the primary strategic framework d ocument for guiding climate \\nchange action in the country. It underlines 44 programmes of action to be undertaken over the \\nshort, medium and long term, within six thematic areas: i) Food security, social protection and \\nhealth, ii) Comprehensive disaster management, iii) infrastructure, iv) research and knowledge \\nmanagement, v) mitigation and low -carbon development, and vi) capacity building  and \\ninstitutional strengthening. The document is currently in the process of being revised, and the \\nupdated version is  expected to underscore new priorities and action areas necessary for \\naddressing climate change risks and vulnerability in the country.  Subsequently, the Climate\\n\\nsession of the Conference of the Parties (COP) in December 2018 . The work program calls \\nupon the following set of actions3: \\n \\n1. Strengthening existing national climate change secretariats and/or focal points to enable \\nthe effective implementation of the Convention and the Kyoto Protocol in the LDC \\nParties;  \\n2. Providing ongoing negotiations training to build the capacity of negotiator s from the \\nLDCs to participate effectively in the climate change process;  \\n3. Supporting the preparation of national adaptation programs of action (NAPAs). NAPAs \\nwere structured around an eight -step process resulting in a list of discrete projects. \\nHaving completed a NAPA would make the country eligible for the Least Developed \\nCountries Fund (LDCF);  \\n4. Promoting public awareness programs to ensure the dissemination of information on \\nclimate change issues;  \\n5. Developing and transferring technology, particularly adaptation technology; and\\n\\nQuestion: What is the full form of NAP?\\n\\nAnswer:\\n', additional_kwargs={}, response_metadata={})])"
      ]
     },
     "execution_count": 32,
     "metadata": {},
     "output_type": "execute_result"
    }
   ],
   "source": [
    "rag_chain = (\n",
    "    {\"context\": retriver | docs2str, \"question\": RunnablePassthrough()} | prompt\n",
    ")\n",
    "rag_chain.invoke(\"What is the full form of NAP?\")"
   ]
  },
  {
   "cell_type": "code",
   "execution_count": 33,
   "id": "3de600c5",
   "metadata": {},
   "outputs": [],
   "source": [
    "from langchain_openai import ChatOpenAI\n",
    "\n",
    "llm=ChatOpenAI(model=\"gpt-4o-mini\")"
   ]
  },
  {
   "cell_type": "code",
   "execution_count": 34,
   "id": "2bb16784",
   "metadata": {},
   "outputs": [],
   "source": [
    "from langchain_core.output_parsers import StrOutputParser\n",
    "\n",
    "outputParser = StrOutputParser()"
   ]
  },
  {
   "cell_type": "code",
   "execution_count": 36,
   "id": "c7ded815",
   "metadata": {},
   "outputs": [
    {
     "name": "stdout",
     "output_type": "stream",
     "text": [
      "The full form of NAP is National Adaptation Programs of Action.\n"
     ]
    }
   ],
   "source": [
    "rag_chain = (\n",
    "    {\"context\": retriver | docs2str, \"question\": RunnablePassthrough()} \n",
    "    | prompt \n",
    "    | llm \n",
    "    | outputParser\n",
    ")\n",
    "\n",
    "question=\"What is the full form of NAP?\"\n",
    "response = rag_chain.invoke(question)\n",
    "print(response)"
   ]
  }
 ],
 "metadata": {
  "kernelspec": {
   "display_name": "venv (3.13.7)",
   "language": "python",
   "name": "python3"
  },
  "language_info": {
   "codemirror_mode": {
    "name": "ipython",
    "version": 3
   },
   "file_extension": ".py",
   "mimetype": "text/x-python",
   "name": "python",
   "nbconvert_exporter": "python",
   "pygments_lexer": "ipython3",
   "version": "3.13.7"
  }
 },
 "nbformat": 4,
 "nbformat_minor": 5
}
